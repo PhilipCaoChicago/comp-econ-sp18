{
 "cells": [
  {
   "cell_type": "code",
   "execution_count": 1,
   "metadata": {},
   "outputs": [],
   "source": [
    "import numpy as np\n",
    "import pandas as pd\n",
    "data = ['peter', 'Paul', None, 'MARY', 'gUIDO']\n",
    "names = pd.Series(data)"
   ]
  },
  {
   "cell_type": "markdown",
   "metadata": {},
   "source": [
    "data = \\['peter', 'Paul', None, 'MARY', 'gUIDO'\\] <br>\n",
    "\\[s.capitalize() for s in data\\]\n",
    "\n",
    "---------------------------------------------------------------------------\n",
    "AttributeError                            Traceback (most recent call last)\n",
    "<ipython-input-3-fc1d891ab539> in <module>()\n",
    "      1 data = ['peter', 'Paul', None, 'MARY', 'gUIDO']\n",
    "----> 2 [s.capitalize() for s in data]\n",
    "\n",
    "<ipython-input-3-fc1d891ab539> in <listcomp>(.0)\n",
    "      1 data = ['peter', 'Paul', None, 'MARY', 'gUIDO']\n",
    "----> 2 [s.capitalize() for s in data]\n",
    "\n",
    "AttributeError: 'NoneType' object has no attribute 'capitalize'"
   ]
  },
  {
   "cell_type": "code",
   "execution_count": 2,
   "metadata": {},
   "outputs": [
    {
     "data": {
      "text/plain": [
       "0    Peter\n",
       "1     Paul\n",
       "2     None\n",
       "3     Mary\n",
       "4    Guido\n",
       "dtype: object"
      ]
     },
     "execution_count": 2,
     "metadata": {},
     "output_type": "execute_result"
    }
   ],
   "source": [
    "names.str.capitalize()"
   ]
  },
  {
   "cell_type": "markdown",
   "metadata": {},
   "source": [
    "Methods similar to Python string methods\n",
    "Nearly all Python's built-in string methods are mirrored by a Pandas vectorized string method. Here is a list of Pandas str methods that mirror Python string methods:\n",
    "\n",
    "len()\tlower()\ttranslate()\tislower()\n",
    "ljust()\tupper()\tstartswith()\tisupper()\n",
    "rjust()\tfind()\tendswith()\tisnumeric()\n",
    "center()\trfind()\tisalnum()\tisdecimal()\n",
    "zfill()\tindex()\tisalpha()\tsplit()\n",
    "strip()\trindex()\tisdigit()\trsplit()\n",
    "rstrip()\tcapitalize()\tisspace()\tpartition()\n",
    "lstrip()\tswapcase()\tistitle()\trpartition()"
   ]
  },
  {
   "cell_type": "markdown",
   "metadata": {},
   "source": [
    "### Methods using regular expersion\n",
    "\n",
    "call ``re.method()`` on each element"
   ]
  },
  {
   "cell_type": "code",
   "execution_count": 3,
   "metadata": {},
   "outputs": [
    {
     "data": {
      "text/plain": [
       "0     Graham\n",
       "1       John\n",
       "2      Terry\n",
       "3       Eric\n",
       "4      Terry\n",
       "5    Michael\n",
       "dtype: object"
      ]
     },
     "execution_count": 3,
     "metadata": {},
     "output_type": "execute_result"
    }
   ],
   "source": [
    "monte = pd.Series(['Graham Chapman', 'John Cleese', 'Terry Gilliam',\n",
    "                   'Eric Idle', 'Terry Jones', 'Michael Palin'])\n",
    "monte.str.extract('([A-Za-z]+)', expand=False)"
   ]
  },
  {
   "cell_type": "markdown",
   "metadata": {},
   "source": [
    "# Regular expression module\n",
    "### Regular Expersion methods\n",
    "``mathch()`` , call ``re.match()`` on each element, return a boolean <br>\n",
    "``extract()``, call ``re.match()`` on each element, returning a matched grounps as strings <br> \n",
    "``findall()``, call ``re.findall()`` on each element <br>\n",
    "``replace()``, replace occurrences of pattern with some other string <br>\n",
    "``contains()``, call ``re.search()`` on each element, returning a boolean <br>\n",
    "``count()``, count occurrences of pattern <br>\n",
    "``split()``, equivalent to ``str.split()``, but accepts regexps <br>\n",
    "``rsplit()``, equivalent to ``str.rsplit()``, but accepts regexps <br>\n"
   ]
  },
  {
   "cell_type": "code",
   "execution_count": 4,
   "metadata": {},
   "outputs": [],
   "source": [
    "import re"
   ]
  },
  {
   "cell_type": "code",
   "execution_count": 5,
   "metadata": {},
   "outputs": [],
   "source": [
    "# get data\n",
    "text = open('data.txt').readlines()\n",
    "raw = str()\n",
    "for line in text:\n",
    "    raw += line"
   ]
  },
  {
   "cell_type": "markdown",
   "metadata": {},
   "source": [
    "### Complie Pattern\n",
    "``re.complile`` <br>\n",
    "The sequence: <br>\n",
    "``prog = re.compile(pattern)\n",
    "result = prog.match(string)``\n",
    "<br> is equivalent to: <br>\n",
    "``result = re.match(pattern, string)``"
   ]
  },
  {
   "cell_type": "code",
   "execution_count": 6,
   "metadata": {},
   "outputs": [],
   "source": [
    "pattern = re.compile('[\\w.-]+@[\\w.-]+')"
   ]
  },
  {
   "cell_type": "markdown",
   "metadata": {},
   "source": [
    "### Search vs Match"
   ]
  },
  {
   "cell_type": "markdown",
   "metadata": {},
   "source": [
    "``re.search`` <br>\n",
    "Scan through string looking for the first location where the regular expression pattern produces a match, and return a corresponding MatchObject instance. Return None if no position in the string matches the pattern; note that this is different from finding a zero-length match at some point in the string.  <br>"
   ]
  },
  {
   "cell_type": "code",
   "execution_count": 7,
   "metadata": {},
   "outputs": [
    {
     "name": "stdout",
     "output_type": "stream",
     "text": [
      "<_sre.SRE_Match object; span=(60, 85), match='davemartin@bogusemail.com'>\n",
      "davemartin@bogusemail.com\n"
     ]
    }
   ],
   "source": [
    "pattern = re.compile('[\\w.-]+@[\\w.-]+') \n",
    "match = re.search(pattern, raw)\n",
    "if match:\n",
    "    print(match)\n",
    "    print(match.group())  "
   ]
  },
  {
   "cell_type": "markdown",
   "metadata": {},
   "source": [
    "``re.match`` <br>\n",
    "If zero or more characters at the beginning of string match the regular expression pattern, return a corresponding MatchObject instance. Return None if the string does not match the pattern; note that this is different from a zero-length match."
   ]
  },
  {
   "cell_type": "markdown",
   "metadata": {},
   "source": [
    "### findall vs finditer\n",
    "\n",
    "Let's say we try to find all the email of a document."
   ]
  },
  {
   "cell_type": "markdown",
   "metadata": {},
   "source": [
    "``re.findall`` <br>\n",
    "Return all non-overlapping matches of pattern in string, as a list of strings. The string is scanned left-to-right, and matches are returned in the order found. If one or more groups are present in the pattern, return a list of groups; this will be a list of tuples if the pattern has more than one group. Empty matches are included in the result."
   ]
  },
  {
   "cell_type": "code",
   "execution_count": 8,
   "metadata": {},
   "outputs": [],
   "source": [
    "matches = pattern.findall(raw)"
   ]
  },
  {
   "cell_type": "code",
   "execution_count": 9,
   "metadata": {
    "scrolled": true
   },
   "outputs": [
    {
     "name": "stdout",
     "output_type": "stream",
     "text": [
      "['davemartin@bogusemail.com', 'charlesharris@bogusemail.com', 'laurawilliams@bogusemail.com', 'coreyjefferson@bogusemail.com', 'jenniferwhite@bogusemail.com', 'tomdavis@bogusemail.com', 'neilpatterson@bogusemail.com', 'laurajefferson@bogusemail.com', 'mariajohnson@bogusemail.com', 'michaelarnold@bogusemail.com', 'michaelsmith@bogusemail.com', 'robertstuart@bogusemail.com', 'lauramartin@bogusemail.com', 'barbaramartin@bogusemail.com', 'lindajackson@bogusemail.com', 'stevemiller@bogusemail.com', 'davearnold@bogusemail.com', 'jenniferjacobs@bogusemail.com', 'neilwilson@bogusemail.com', 'kurtjackson@bogusemail.com', 'maryjacobs@bogusemail.com', 'michaelwhite@bogusemail.com', 'jenniferjenkins@bogusemail.com', 'samwright@bogusemail.com', 'johndavis@bogusemail.com', 'neildavis@bogusemail.com', 'laurajackson@bogusemail.com', 'johnwilliams@bogusemail.com', 'michaelmartin@bogusemail.com', 'maggiebrown@bogusemail.com', 'kurtwilson@bogusemail.com', 'elizabetharnold@bogusemail.com', 'janemartin@bogusemail.com', 'travisjohnson@bogusemail.com', 'laurajefferson@bogusemail.com', 'tomwilliams@bogusemail.com', 'jennifertaylor@bogusemail.com', 'jenniferwright@bogusemail.com', 'stevedoe@bogusemail.com', 'kurtdavis@bogusemail.com', 'coreyharris@bogusemail.com', 'nicoletaylor@bogusemail.com', 'elizabethdavis@bogusemail.com', 'maggiejenkins@bogusemail.com', 'lindadavis@bogusemail.com', 'davemoore@bogusemail.com', 'lindajenkins@bogusemail.com', 'samwhite@bogusemail.com', 'laurarobinson@bogusemail.com', 'charlespatterson@bogusemail.com', 'joejackson@bogusemail.com', 'michaeljohnson@bogusemail.com', 'coreymiller@bogusemail.com', 'jamesmoore@bogusemail.com', 'jenniferstuart@bogusemail.com', 'charlesmartin@bogusemail.com', 'joewilks@bogusemail.com', 'elizabetharnold@bogusemail.com', 'johnmiller@bogusemail.com', 'coreyjackson@bogusemail.com', 'samthomas@bogusemail.com', 'patriciathomas@bogusemail.com', 'jenniferdavis@bogusemail.com', 'patriciabrown@bogusemail.com', 'barbarawilliams@bogusemail.com', 'jamestaylor@bogusemail.com', 'barbaraharris@bogusemail.com', 'travisanderson@bogusemail.com', 'samrobinson@bogusemail.com', 'steverobinson@bogusemail.com', 'marywilson@bogusemail.com', 'samwilson@bogusemail.com', 'charlesjones@bogusemail.com', 'laurabrown@bogusemail.com', 'tomharris@bogusemail.com', 'patriciataylor@bogusemail.com', 'barbarawilliams@bogusemail.com', 'maggiejohnson@bogusemail.com', 'kurtmiller@bogusemail.com', 'neilstuart@bogusemail.com', 'lindapatterson@bogusemail.com', 'charlesdavis@bogusemail.com', 'jenniferjefferson@bogusemail.com', 'coreytaylor@bogusemail.com', 'robertwilks@bogusemail.com', 'travisjackson@bogusemail.com', 'travisjackson@bogusemail.com', 'laurawilks@bogusemail.com', 'neilarnold@bogusemail.com', 'lindajohnson@bogusemail.com', 'jenniferwilson@bogusemail.com', 'nicolewhite@bogusemail.com', 'mariaarnold@bogusemail.com', 'jenniferdavis@bogusemail.com', 'marypatterson@bogusemail.com', 'janestuart@bogusemail.com', 'robertdavis@bogusemail.com', 'jamestaylor@bogusemail.com', 'johnstuart@bogusemail.com', 'charlesmiller@bogusemail.com']\n"
     ]
    }
   ],
   "source": [
    "print(matches)"
   ]
  },
  {
   "cell_type": "markdown",
   "metadata": {},
   "source": [
    "``re.finditer`` <br>\n",
    "Return an iterator yielding MatchObject instances over all non-overlapping matches for the RE pattern in string. The string is scanned left-to-right, and matches are returned in the order found. Empty matches are included in the result. "
   ]
  },
  {
   "cell_type": "code",
   "execution_count": 10,
   "metadata": {},
   "outputs": [],
   "source": [
    "matches = pattern.finditer(raw)"
   ]
  },
  {
   "cell_type": "code",
   "execution_count": 11,
   "metadata": {
    "scrolled": true
   },
   "outputs": [
    {
     "name": "stdout",
     "output_type": "stream",
     "text": [
      "davemartin@bogusemail.com\n",
      "charlesharris@bogusemail.com\n",
      "laurawilliams@bogusemail.com\n",
      "coreyjefferson@bogusemail.com\n",
      "jenniferwhite@bogusemail.com\n",
      "tomdavis@bogusemail.com\n",
      "neilpatterson@bogusemail.com\n",
      "laurajefferson@bogusemail.com\n",
      "mariajohnson@bogusemail.com\n",
      "michaelarnold@bogusemail.com\n",
      "michaelsmith@bogusemail.com\n",
      "robertstuart@bogusemail.com\n",
      "lauramartin@bogusemail.com\n",
      "barbaramartin@bogusemail.com\n",
      "lindajackson@bogusemail.com\n",
      "stevemiller@bogusemail.com\n",
      "davearnold@bogusemail.com\n",
      "jenniferjacobs@bogusemail.com\n",
      "neilwilson@bogusemail.com\n",
      "kurtjackson@bogusemail.com\n",
      "maryjacobs@bogusemail.com\n",
      "michaelwhite@bogusemail.com\n",
      "jenniferjenkins@bogusemail.com\n",
      "samwright@bogusemail.com\n",
      "johndavis@bogusemail.com\n",
      "neildavis@bogusemail.com\n",
      "laurajackson@bogusemail.com\n",
      "johnwilliams@bogusemail.com\n",
      "michaelmartin@bogusemail.com\n",
      "maggiebrown@bogusemail.com\n",
      "kurtwilson@bogusemail.com\n",
      "elizabetharnold@bogusemail.com\n",
      "janemartin@bogusemail.com\n",
      "travisjohnson@bogusemail.com\n",
      "laurajefferson@bogusemail.com\n",
      "tomwilliams@bogusemail.com\n",
      "jennifertaylor@bogusemail.com\n",
      "jenniferwright@bogusemail.com\n",
      "stevedoe@bogusemail.com\n",
      "kurtdavis@bogusemail.com\n",
      "coreyharris@bogusemail.com\n",
      "nicoletaylor@bogusemail.com\n",
      "elizabethdavis@bogusemail.com\n",
      "maggiejenkins@bogusemail.com\n",
      "lindadavis@bogusemail.com\n",
      "davemoore@bogusemail.com\n",
      "lindajenkins@bogusemail.com\n",
      "samwhite@bogusemail.com\n",
      "laurarobinson@bogusemail.com\n",
      "charlespatterson@bogusemail.com\n",
      "joejackson@bogusemail.com\n",
      "michaeljohnson@bogusemail.com\n",
      "coreymiller@bogusemail.com\n",
      "jamesmoore@bogusemail.com\n",
      "jenniferstuart@bogusemail.com\n",
      "charlesmartin@bogusemail.com\n",
      "joewilks@bogusemail.com\n",
      "elizabetharnold@bogusemail.com\n",
      "johnmiller@bogusemail.com\n",
      "coreyjackson@bogusemail.com\n",
      "samthomas@bogusemail.com\n",
      "patriciathomas@bogusemail.com\n",
      "jenniferdavis@bogusemail.com\n",
      "patriciabrown@bogusemail.com\n",
      "barbarawilliams@bogusemail.com\n",
      "jamestaylor@bogusemail.com\n",
      "barbaraharris@bogusemail.com\n",
      "travisanderson@bogusemail.com\n",
      "samrobinson@bogusemail.com\n",
      "steverobinson@bogusemail.com\n",
      "marywilson@bogusemail.com\n",
      "samwilson@bogusemail.com\n",
      "charlesjones@bogusemail.com\n",
      "laurabrown@bogusemail.com\n",
      "tomharris@bogusemail.com\n",
      "patriciataylor@bogusemail.com\n",
      "barbarawilliams@bogusemail.com\n",
      "maggiejohnson@bogusemail.com\n",
      "kurtmiller@bogusemail.com\n",
      "neilstuart@bogusemail.com\n",
      "lindapatterson@bogusemail.com\n",
      "charlesdavis@bogusemail.com\n",
      "jenniferjefferson@bogusemail.com\n",
      "coreytaylor@bogusemail.com\n",
      "robertwilks@bogusemail.com\n",
      "travisjackson@bogusemail.com\n",
      "travisjackson@bogusemail.com\n",
      "laurawilks@bogusemail.com\n",
      "neilarnold@bogusemail.com\n",
      "lindajohnson@bogusemail.com\n",
      "jenniferwilson@bogusemail.com\n",
      "nicolewhite@bogusemail.com\n",
      "mariaarnold@bogusemail.com\n",
      "jenniferdavis@bogusemail.com\n",
      "marypatterson@bogusemail.com\n",
      "janestuart@bogusemail.com\n",
      "robertdavis@bogusemail.com\n",
      "jamestaylor@bogusemail.com\n",
      "johnstuart@bogusemail.com\n",
      "charlesmiller@bogusemail.com\n"
     ]
    }
   ],
   "source": [
    "for match in matches:\n",
    "    print(match.group())"
   ]
  },
  {
   "cell_type": "markdown",
   "metadata": {},
   "source": [
    "### Vectorized regular expression"
   ]
  },
  {
   "cell_type": "code",
   "execution_count": 14,
   "metadata": {},
   "outputs": [
    {
     "data": {
      "text/plain": [
       "0    Graham Chapman\n",
       "1       John Cleese\n",
       "2     Terry Gilliam\n",
       "3         Eric Idle\n",
       "4       Terry Jones\n",
       "5     Michael Palin\n",
       "dtype: object"
      ]
     },
     "execution_count": 14,
     "metadata": {},
     "output_type": "execute_result"
    }
   ],
   "source": [
    "monte"
   ]
  },
  {
   "cell_type": "code",
   "execution_count": 12,
   "metadata": {},
   "outputs": [
    {
     "data": {
      "text/plain": [
       "0     Graham\n",
       "1       John\n",
       "2      Terry\n",
       "3       Eric\n",
       "4      Terry\n",
       "5    Michael\n",
       "dtype: object"
      ]
     },
     "execution_count": 12,
     "metadata": {},
     "output_type": "execute_result"
    }
   ],
   "source": [
    "monte.str.extract('([A-Za-z]+)', expand=False)"
   ]
  },
  {
   "cell_type": "code",
   "execution_count": 13,
   "metadata": {},
   "outputs": [],
   "source": [
    "re.match( 'cat, dog', 'cat')"
   ]
  }
 ],
 "metadata": {
  "kernelspec": {
   "display_name": "Python 3",
   "language": "python",
   "name": "python3"
  },
  "language_info": {
   "codemirror_mode": {
    "name": "ipython",
    "version": 3
   },
   "file_extension": ".py",
   "mimetype": "text/x-python",
   "name": "python",
   "nbconvert_exporter": "python",
   "pygments_lexer": "ipython3",
   "version": "3.6.4"
  }
 },
 "nbformat": 4,
 "nbformat_minor": 2
}
