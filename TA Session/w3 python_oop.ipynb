{
 "cells": [
  {
   "cell_type": "markdown",
   "metadata": {},
   "source": [
    "Notebook created: 2018-04-03 03:48:34  \n",
    "Generated from: _build_py/py/python_oop.rst  "
   ]
  },
  {
   "cell_type": "code",
   "execution_count": 1,
   "metadata": {},
   "outputs": [
    {
     "data": {
      "text/plain": [
       "[1, 4, 5]"
      ]
     },
     "execution_count": 1,
     "metadata": {},
     "output_type": "execute_result"
    }
   ],
   "source": [
    "x = [1, 5, 4]\n",
    "x.sort()\n",
    "x"
   ]
  },
  {
   "cell_type": "markdown",
   "metadata": {},
   "source": [
    "```none\n",
    "[1, 4, 5]\n",
    "```\n"
   ]
  },
  {
   "cell_type": "code",
   "execution_count": 2,
   "metadata": {},
   "outputs": [
    {
     "data": {
      "text/plain": [
       "list"
      ]
     },
     "execution_count": 2,
     "metadata": {},
     "output_type": "execute_result"
    }
   ],
   "source": [
    "x = [1, 5, 4]\n",
    "x.sort()\n",
    "x.__class__"
   ]
  },
  {
   "cell_type": "code",
   "execution_count": 19,
   "metadata": {},
   "outputs": [],
   "source": [
    "def func(a):\n",
    "    return a"
   ]
  },
  {
   "cell_type": "code",
   "execution_count": 20,
   "metadata": {},
   "outputs": [],
   "source": [
    "ans = func(10)"
   ]
  },
  {
   "cell_type": "code",
   "execution_count": 1,
   "metadata": {},
   "outputs": [],
   "source": [
    "class Consumer:\n",
    "\n",
    "    def __init__(self, w):\n",
    "        \"Initialize consumer with w dollars of wealth\"\n",
    "        self.wealth = w\n",
    "\n",
    "    def earn(self, y):\n",
    "        \"The consumer earns y dollars\"\n",
    "        self.wealth += y\n",
    "\n",
    "    def spend(self, x):\n",
    "        \"The consumer spends x dollars if feasible\"\n",
    "        new_wealth = self.wealth - x\n",
    "        if new_wealth < 0:\n",
    "            print(\"Insufficent funds\")\n",
    "        else:\n",
    "            self.wealth = new_wealth"
   ]
  },
  {
   "cell_type": "code",
   "execution_count": 2,
   "metadata": {},
   "outputs": [
    {
     "data": {
      "text/plain": [
       "5"
      ]
     },
     "execution_count": 2,
     "metadata": {},
     "output_type": "execute_result"
    }
   ],
   "source": [
    "c1 = Consumer(10)  # Create instance with initial wealth 10\n",
    "c1.spend(5)\n",
    "c1.wealth"
   ]
  },
  {
   "cell_type": "code",
   "execution_count": 3,
   "metadata": {},
   "outputs": [
    {
     "name": "stdout",
     "output_type": "stream",
     "text": [
      "Insufficent funds\n"
     ]
    }
   ],
   "source": [
    "c1.earn(15)\n",
    "c1.spend(100)"
   ]
  },
  {
   "cell_type": "code",
   "execution_count": 4,
   "metadata": {},
   "outputs": [
    {
     "data": {
      "text/plain": [
       "8"
      ]
     },
     "execution_count": 4,
     "metadata": {},
     "output_type": "execute_result"
    }
   ],
   "source": [
    "c1 = Consumer(10)\n",
    "c2 = Consumer(12)\n",
    "c2.spend(4)\n",
    "c2.wealth"
   ]
  },
  {
   "cell_type": "code",
   "execution_count": 5,
   "metadata": {},
   "outputs": [
    {
     "data": {
      "text/plain": [
       "10"
      ]
     },
     "execution_count": 5,
     "metadata": {},
     "output_type": "execute_result"
    }
   ],
   "source": [
    "c1.wealth"
   ]
  },
  {
   "cell_type": "code",
   "execution_count": 6,
   "metadata": {},
   "outputs": [
    {
     "data": {
      "text/plain": [
       "{'wealth': 10}"
      ]
     },
     "execution_count": 6,
     "metadata": {},
     "output_type": "execute_result"
    }
   ],
   "source": [
    "c1.__dict__"
   ]
  },
  {
   "cell_type": "code",
   "execution_count": 7,
   "metadata": {},
   "outputs": [
    {
     "data": {
      "text/plain": [
       "{'wealth': 8}"
      ]
     },
     "execution_count": 7,
     "metadata": {},
     "output_type": "execute_result"
    }
   ],
   "source": [
    "c2.__dict__"
   ]
  },
  {
   "cell_type": "code",
   "execution_count": 16,
   "metadata": {},
   "outputs": [],
   "source": [
    "class VIPConsumer(Consumer):\n",
    "    def __init__(self, wealth):\n",
    "        if wealth < 1000000:\n",
    "            print('Not a VIP Consumer')\n",
    "        else:\n",
    "            self.wealth = wealth"
   ]
  },
  {
   "cell_type": "code",
   "execution_count": 17,
   "metadata": {},
   "outputs": [
    {
     "name": "stdout",
     "output_type": "stream",
     "text": [
      "Not a VIP Consumer\n"
     ]
    }
   ],
   "source": [
    "a =  VIPConsumer(1000)"
   ]
  },
  {
   "cell_type": "code",
   "execution_count": 18,
   "metadata": {},
   "outputs": [],
   "source": [
    "b = VIPConsumer(10000000)\n",
    "b.spend(1000)"
   ]
  },
  {
   "cell_type": "code",
   "execution_count": 11,
   "metadata": {},
   "outputs": [
    {
     "name": "stdout",
     "output_type": "stream",
     "text": [
      "{'__module__': '__main__', '__init__': <function Consumer.__init__ at 0x0000026F1E7E79D8>, 'earn': <function Consumer.earn at 0x0000026F1E7E7950>, 'spend': <function Consumer.spend at 0x0000026F1E7E76A8>, '__dict__': <attribute '__dict__' of 'Consumer' objects>, '__weakref__': <attribute '__weakref__' of 'Consumer' objects>, '__doc__': None}\n"
     ]
    }
   ],
   "source": [
    "print(Consumer.__dict__)  # Show __dict__ attribute of class object"
   ]
  },
  {
   "cell_type": "code",
   "execution_count": 12,
   "metadata": {},
   "outputs": [
    {
     "data": {
      "text/plain": [
       "20"
      ]
     },
     "execution_count": 12,
     "metadata": {},
     "output_type": "execute_result"
    }
   ],
   "source": [
    "c1 = Consumer(10)\n",
    "c1.earn(10)\n",
    "c1.wealth"
   ]
  },
  {
   "cell_type": "code",
   "execution_count": 13,
   "metadata": {},
   "outputs": [],
   "source": [
    "def earn(self, y):\n",
    "     \"The consumer earns y dollars\"\n",
    "     self.wealth += y"
   ]
  },
  {
   "cell_type": "code",
   "execution_count": 14,
   "metadata": {},
   "outputs": [],
   "source": [
    "class Solow:\n",
    "    r\"\"\"\n",
    "    Implements the Solow growth model with update rule\n",
    "\n",
    "        k_{t+1} = [(s z k^α_t) + (1 - δ)k_t] /(1 + n)\n",
    "\n",
    "    \"\"\"\n",
    "    def __init__(self, n=0.05,  # population growth rate\n",
    "                       s=0.25,  # savings rate\n",
    "                       δ=0.1,   # depreciation rate\n",
    "                       α=0.3,   # share of labor\n",
    "                       z=2.0,   # productivity\n",
    "                       k=1.0):  # current capital stock\n",
    "\n",
    "        self.n, self.s, self.δ, self.α, self.z = n, s, δ, α, z\n",
    "        self.k = k\n",
    "\n",
    "    def h(self):\n",
    "        \"Evaluate the h function\"\n",
    "        # Unpack parameters (get rid of self to simplify notation)\n",
    "        n, s, δ, α, z = self.n, self.s, self.δ, self.α, self.z\n",
    "        # Apply the update rule\n",
    "        return (s * z * self.k**α + (1 - δ) * self.k) / (1 + n)\n",
    "\n",
    "    def update(self):\n",
    "        \"Update the current state (i.e., the capital stock).\"\n",
    "        self.k =  self.h()\n",
    "\n",
    "    def steady_state(self):\n",
    "        \"Compute the steady state value of capital.\"\n",
    "        # Unpack parameters (get rid of self to simplify notation)\n",
    "        n, s, δ, α, z = self.n, self.s, self.δ, self.α, self.z\n",
    "        # Compute and return steady state\n",
    "        return ((s * z) / (n + δ))**(1 / (1 - α))\n",
    "\n",
    "    def generate_sequence(self, t):\n",
    "        \"Generate and return a time series of length t\"\n",
    "        path = []\n",
    "        for i in range(t):\n",
    "            path.append(self.k)\n",
    "            self.update()\n",
    "        return path"
   ]
  },
  {
   "cell_type": "code",
   "execution_count": 16,
   "metadata": {},
   "outputs": [
    {
     "data": {
      "image/png": "[encoded data removed]",
      "text/plain": [
       "<Figure size 648x432 with 1 Axes>"
      ]
     },
     "metadata": {},
     "output_type": "display_data"
    }
   ],
   "source": [
    "import matplotlib.pyplot as plt\n",
    "\n",
    "s1 = Solow()\n",
    "s2 = Solow(k=8.0)\n",
    "\n",
    "T = 60\n",
    "fig, ax = plt.subplots(figsize=(9, 6))\n",
    "\n",
    "# Plot the common steady state value of capital\n",
    "ax.plot([s1.steady_state()]*T, 'k-', label='steady state')\n",
    "\n",
    "# Plot time series for each economy\n",
    "for s in s1, s2:\n",
    "    lb = f'capital series from initial state {s.k}'\n",
    "    ax.plot(s.generate_sequence(T), 'o-', lw=2, alpha=0.6, label=lb)\n",
    "\n",
    "ax.legend()\n",
    "plt.show()"
   ]
  },
  {
   "cell_type": "code",
   "execution_count": 17,
   "metadata": {},
   "outputs": [],
   "source": [
    "from scipy.integrate import quad\n",
    "\n",
    "class Market:\n",
    "\n",
    "    def __init__(self, ad, bd, az, bz, tax):\n",
    "        \"\"\"\n",
    "        Set up market parameters.  All parameters are scalars.  See\n",
    "        http://quant-econ.net/py/python_oop.html for interpretation.\n",
    "\n",
    "        \"\"\"\n",
    "        self.ad, self.bd, self.az, self.bz, self.tax = ad, bd, az, bz, tax\n",
    "        if ad < az:\n",
    "            raise ValueError('Insufficient demand.')\n",
    "\n",
    "    def price(self):\n",
    "        \"Return equilibrium price\"\n",
    "        return  (self.ad - self.az + self.bz * self.tax) / (self.bd + self.bz)\n",
    "\n",
    "    def quantity(self):\n",
    "        \"Compute equilibrium quantity\"\n",
    "        return  self.ad - self.bd * self.price()\n",
    "\n",
    "    def consumer_surp(self):\n",
    "        \"Compute consumer surplus\"\n",
    "        # == Compute area under inverse demand function == #\n",
    "        integrand = lambda x: (self.ad / self.bd) - (1 / self.bd) * x\n",
    "        area, error = quad(integrand, 0, self.quantity())\n",
    "        return area - self.price() * self.quantity()\n",
    "\n",
    "    def producer_surp(self):\n",
    "        \"Compute producer surplus\"\n",
    "        #  == Compute area above inverse supply curve, excluding tax == #\n",
    "        integrand = lambda x: -(self.az / self.bz) + (1 / self.bz) * x\n",
    "        area, error = quad(integrand, 0, self.quantity())\n",
    "        return (self.price() - self.tax) * self.quantity() - area\n",
    "\n",
    "    def taxrev(self):\n",
    "        \"Compute tax revenue\"\n",
    "        return self.tax * self.quantity()\n",
    "\n",
    "    def inverse_demand(self, x):\n",
    "        \"Compute inverse demand\"\n",
    "        return self.ad / self.bd - (1 / self.bd)* x\n",
    "\n",
    "    def inverse_supply(self, x):\n",
    "        \"Compute inverse supply curve\"\n",
    "        return -(self.az / self.bz) + (1 / self.bz) * x + self.tax\n",
    "\n",
    "    def inverse_supply_no_tax(self, x):\n",
    "        \"Compute inverse supply curve without tax\"\n",
    "        return -(self.az / self.bz) + (1 / self.bz) * x"
   ]
  },
  {
   "cell_type": "code",
   "execution_count": 18,
   "metadata": {},
   "outputs": [
    {
     "name": "stdout",
     "output_type": "stream",
     "text": [
      "equilibrium price =  18.5\n"
     ]
    }
   ],
   "source": [
    "baseline_params = 15, .5, -2, .5, 3\n",
    "# recomendated use list\n",
    "m = Market(*baseline_params)\n",
    "print(\"equilibrium price = \", m.price())"
   ]
  },
  {
   "cell_type": "code",
   "execution_count": 19,
   "metadata": {},
   "outputs": [
    {
     "name": "stdout",
     "output_type": "stream",
     "text": [
      "consumer surplus =  33.0625\n"
     ]
    }
   ],
   "source": [
    "print(\"consumer surplus = \", m.consumer_surp())"
   ]
  },
  {
   "cell_type": "code",
   "execution_count": 20,
   "metadata": {},
   "outputs": [
    {
     "data": {
      "image/png": "[encoded data removed]",
      "text/plain": [
       "<Figure size 432x288 with 1 Axes>"
      ]
     },
     "metadata": {},
     "output_type": "display_data"
    }
   ],
   "source": [
    "import numpy as np\n",
    "\n",
    "# Baseline ad, bd, az, bz, tax\n",
    "baseline_params = 15, .5, -2, .5, 3\n",
    "m = Market(*baseline_params)\n",
    "\n",
    "q_max = m.quantity() * 2\n",
    "q_grid = np.linspace(0.0, q_max, 100)\n",
    "pd = m.inverse_demand(q_grid)\n",
    "ps = m.inverse_supply(q_grid)\n",
    "psno = m.inverse_supply_no_tax(q_grid)\n",
    "\n",
    "fig, ax = plt.subplots()\n",
    "ax.plot(q_grid, pd, lw=2, alpha=0.6, label='demand')\n",
    "ax.plot(q_grid, ps, lw=2, alpha=0.6, label='supply')\n",
    "ax.plot(q_grid, psno, '--k', lw=2, alpha=0.6, label='supply without tax')\n",
    "ax.set_xlabel('quantity', fontsize=14)\n",
    "ax.set_xlim(0, q_max)\n",
    "ax.set_ylabel('price', fontsize=14)\n",
    "ax.legend(loc='lower right', frameon=False, fontsize=14)\n",
    "plt.show()"
   ]
  },
  {
   "cell_type": "code",
   "execution_count": 21,
   "metadata": {},
   "outputs": [],
   "source": [
    "def deadw(m):\n",
    "    \"Computes deadweight loss for market m.\"\n",
    "    # == Create analogous market with no tax == #\n",
    "    m_no_tax = Market(m.ad, m.bd, m.az, m.bz, 0)\n",
    "    # == Compare surplus, return difference == #\n",
    "    surp1 = m_no_tax.consumer_surp() + m_no_tax.producer_surp()\n",
    "    surp2 = m.consumer_surp() + m.producer_surp() + m.taxrev()\n",
    "    return surp1 - surp2"
   ]
  },
  {
   "cell_type": "code",
   "execution_count": 22,
   "metadata": {},
   "outputs": [
    {
     "data": {
      "text/plain": [
       "1.125"
      ]
     },
     "execution_count": 22,
     "metadata": {},
     "output_type": "execute_result"
    }
   ],
   "source": [
    "baseline_params = 15, .5, -2, .5, 3\n",
    "m = Market(*baseline_params)\n",
    "deadw(m)  # Show deadweight loss"
   ]
  }
 ],
 "metadata": {
  "kernelspec": {
   "display_name": "Python 3",
   "language": "python",
   "name": "python3"
  },
  "language_info": {
   "codemirror_mode": {
    "name": "ipython",
    "version": 3
   },
   "file_extension": ".py",
   "mimetype": "text/x-python",
   "name": "python",
   "nbconvert_exporter": "python",
   "pygments_lexer": "ipython3",
   "version": "3.6.4"
  }
 },
 "nbformat": 4,
 "nbformat_minor": 2
}
