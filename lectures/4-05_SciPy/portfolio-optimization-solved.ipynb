{
 "cells": [
  {
   "cell_type": "markdown",
   "metadata": {},
   "source": [
    "In this notebook, we'll work through an example of portfolio optimization. The exercises we do are related to the work by Harry Markowitz, a UChicago grad and winner of the Nobel prize in economics in 1990."
   ]
  },
  {
   "cell_type": "code",
   "execution_count": 1,
   "metadata": {},
   "outputs": [],
   "source": [
    "# always import all necessary libraries at the top of the file\n",
    "import numpy as np\n",
    "import scipy.optimize\n",
    "from matplotlib import pyplot as plt\n",
    "import pandas as pd"
   ]
  },
  {
   "cell_type": "code",
   "execution_count": 2,
   "metadata": {},
   "outputs": [
    {
     "data": {
      "text/html": [
       "<style>\n",
       "body {\n",
       "  counter-reset: section subsection;\n",
       "}\n",
       "\n",
       "h1 {\n",
       "  counter-reset: subsection;\n",
       "}\n",
       "\n",
       "h1:before {\n",
       "    counter-increment: section;\n",
       "    content: \"\" counter(section) \". \";\n",
       "}\n",
       "\n",
       "h2:before {\n",
       "    counter-increment: subsection;\n",
       "    content: counter(section) \".\" counter(subsection) \" \";\n",
       "}\n",
       "</style>"
      ],
      "text/plain": [
       "<IPython.core.display.HTML object>"
      ]
     },
     "metadata": {},
     "output_type": "display_data"
    }
   ],
   "source": [
    "%%HTML\n",
    "<style>\n",
    "body {\n",
    "  counter-reset: section subsection;\n",
    "}\n",
    "\n",
    "h1 {\n",
    "  counter-reset: subsection;\n",
    "}\n",
    "\n",
    "h1:before {\n",
    "    counter-increment: section;\n",
    "    content: \"\" counter(section) \". \";\n",
    "}\n",
    "\n",
    "h2:before {\n",
    "    counter-increment: subsection;\n",
    "    content: counter(section) \".\" counter(subsection) \" \";\n",
    "}\n",
    "</style>"
   ]
  },
  {
   "cell_type": "markdown",
   "metadata": {},
   "source": [
    "# Data\n",
    "\n",
    "In this folder, there should be a file called `dataAssets.csv`. Make sure that you have this file. Run the code below to load the data into numpy arrays.\n",
    "\n",
    "In the matrix of prices, each row corresponds to a day. The columns correspond, (in order,) to the S&P 500 index, USD index, crude oil index, HYG index, and U.S. 10-yr Treasury index."
   ]
  },
  {
   "cell_type": "code",
   "execution_count": 3,
   "metadata": {},
   "outputs": [],
   "source": [
    "data_assets = pd.read_csv('./dataAssets.csv', parse_dates=['date'])"
   ]
  },
  {
   "cell_type": "code",
   "execution_count": 4,
   "metadata": {},
   "outputs": [
    {
     "data": {
      "text/html": [
       "<div>\n",
       "<style scoped>\n",
       "    .dataframe tbody tr th:only-of-type {\n",
       "        vertical-align: middle;\n",
       "    }\n",
       "\n",
       "    .dataframe tbody tr th {\n",
       "        vertical-align: top;\n",
       "    }\n",
       "\n",
       "    .dataframe thead th {\n",
       "        text-align: right;\n",
       "    }\n",
       "</style>\n",
       "<table border=\"1\" class=\"dataframe\">\n",
       "  <thead>\n",
       "    <tr style=\"text-align: right;\">\n",
       "      <th></th>\n",
       "      <th>date</th>\n",
       "      <th>sp500</th>\n",
       "      <th>USD_index</th>\n",
       "      <th>crude_oil</th>\n",
       "      <th>HYG</th>\n",
       "      <th>treasury_10yr</th>\n",
       "    </tr>\n",
       "  </thead>\n",
       "  <tbody>\n",
       "    <tr>\n",
       "      <th>0</th>\n",
       "      <td>2013-08-07</td>\n",
       "      <td>1690.91</td>\n",
       "      <td>81.287</td>\n",
       "      <td>87.83</td>\n",
       "      <td>91.36</td>\n",
       "      <td>2.5986</td>\n",
       "    </tr>\n",
       "    <tr>\n",
       "      <th>1</th>\n",
       "      <td>2013-08-08</td>\n",
       "      <td>1697.48</td>\n",
       "      <td>80.977</td>\n",
       "      <td>87.50</td>\n",
       "      <td>91.56</td>\n",
       "      <td>2.5892</td>\n",
       "    </tr>\n",
       "    <tr>\n",
       "      <th>2</th>\n",
       "      <td>2013-08-09</td>\n",
       "      <td>1691.42</td>\n",
       "      <td>81.126</td>\n",
       "      <td>87.95</td>\n",
       "      <td>91.57</td>\n",
       "      <td>2.5784</td>\n",
       "    </tr>\n",
       "    <tr>\n",
       "      <th>3</th>\n",
       "      <td>2013-08-12</td>\n",
       "      <td>1689.47</td>\n",
       "      <td>81.333</td>\n",
       "      <td>88.19</td>\n",
       "      <td>91.49</td>\n",
       "      <td>2.6206</td>\n",
       "    </tr>\n",
       "    <tr>\n",
       "      <th>4</th>\n",
       "      <td>2013-08-14</td>\n",
       "      <td>1685.39</td>\n",
       "      <td>81.711</td>\n",
       "      <td>88.47</td>\n",
       "      <td>91.31</td>\n",
       "      <td>2.7136</td>\n",
       "    </tr>\n",
       "  </tbody>\n",
       "</table>\n",
       "</div>"
      ],
      "text/plain": [
       "        date    sp500  USD_index  crude_oil    HYG  treasury_10yr\n",
       "0 2013-08-07  1690.91     81.287      87.83  91.36         2.5986\n",
       "1 2013-08-08  1697.48     80.977      87.50  91.56         2.5892\n",
       "2 2013-08-09  1691.42     81.126      87.95  91.57         2.5784\n",
       "3 2013-08-12  1689.47     81.333      88.19  91.49         2.6206\n",
       "4 2013-08-14  1685.39     81.711      88.47  91.31         2.7136"
      ]
     },
     "execution_count": 4,
     "metadata": {},
     "output_type": "execute_result"
    }
   ],
   "source": [
    "data_assets.head()"
   ]
  },
  {
   "cell_type": "code",
   "execution_count": 5,
   "metadata": {},
   "outputs": [],
   "source": [
    "# Don't worry about the Pandas details here\n",
    "prices = data_assets.iloc[:,1:].values\n",
    "dates = data_assets.iloc[:,0].values"
   ]
  },
  {
   "cell_type": "markdown",
   "metadata": {},
   "source": [
    "# Portfolio\n",
    "\n",
    " - (1) Calculate (level) return rates using the given price data. Multiply by 100 so that the returns are in percetages."
   ]
  },
  {
   "cell_type": "code",
   "execution_count": 6,
   "metadata": {},
   "outputs": [],
   "source": [
    "rets = (prices[1:,:]/prices[:-1,:] - 1) * 100"
   ]
  },
  {
   "cell_type": "markdown",
   "metadata": {},
   "source": [
    "- (2) Form a portfolio of data, equally split between the S&P 500 and the Oil Index."
   ]
  },
  {
   "cell_type": "code",
   "execution_count": 7,
   "metadata": {},
   "outputs": [],
   "source": [
    "portfolio = 0.5 * rets[:,0] + 0.5 * rets[:,2]"
   ]
  },
  {
   "cell_type": "markdown",
   "metadata": {},
   "source": [
    "- (3) Calculate the 20th percentile of the return history on this portfolio. (Use `numpy.percentile`. Be sure to specify in terms of percetages---between 0 and 100.)"
   ]
  },
  {
   "cell_type": "code",
   "execution_count": 8,
   "metadata": {},
   "outputs": [
    {
     "data": {
      "text/plain": [
       "-0.3346055289382631"
      ]
     },
     "execution_count": 8,
     "metadata": {},
     "output_type": "execute_result"
    }
   ],
   "source": [
    "percent = 30\n",
    "np.percentile(portfolio, percent)"
   ]
  },
  {
   "cell_type": "markdown",
   "metadata": {},
   "source": [
    " - (4) Use `matplotlib.pyplot.hist` to create a histogram of the returns on this portfolio. Also plot a separate figure with a histogram of the returns for the S&P 500 and for Oil on the same plot. Use labels to distinguish them. You should probably plot Oil first, or at least set the alpha (transparancy) on each plot to something like 0.5. Be sure to include a legend."
   ]
  },
  {
   "cell_type": "code",
   "execution_count": 9,
   "metadata": {},
   "outputs": [
    {
     "data": {
      "image/png": "[encoded data removed]",
      "text/plain": [
       "<matplotlib.figure.Figure at 0x20ccba90f28>"
      ]
     },
     "metadata": {},
     "output_type": "display_data"
    }
   ],
   "source": [
    "plt.hist(portfolio);"
   ]
  },
  {
   "cell_type": "code",
   "execution_count": 10,
   "metadata": {},
   "outputs": [
    {
     "data": {
      "text/plain": [
       "<matplotlib.legend.Legend at 0x20ccdbc7d68>"
      ]
     },
     "execution_count": 10,
     "metadata": {},
     "output_type": "execute_result"
    },
    {
     "data": {
      "image/png": "[encoded data removed]",
      "text/plain": [
       "<matplotlib.figure.Figure at 0x20ccbaf6fd0>"
      ]
     },
     "metadata": {},
     "output_type": "display_data"
    }
   ],
   "source": [
    "plt.hist(rets[:,2], alpha=.5, label='Oil');\n",
    "plt.hist(rets[:,0], alpha=.5, label='S&P 500');\n",
    "plt.legend()"
   ]
  },
  {
   "cell_type": "markdown",
   "metadata": {},
   "source": [
    "# Optimizing Portfolio Variance\n",
    "\n",
    "Consider a portfolio allocation vector, `w`, which sums to 1 and allocates a fraction of the portfolio to each of the 5 securities. For example\n",
    "\n",
    "    w = np.array([.2, .2, .2, .2, .2])\n",
    "    \n",
    "allocates 20% to each asset."
   ]
  },
  {
   "cell_type": "code",
   "execution_count": 11,
   "metadata": {},
   "outputs": [],
   "source": [
    "# You may find that this code is helpful for viewing\n",
    "# the arrays. Suppress will suppress scientific notation\n",
    "# and precision sets the number of digits to print to\n",
    "# the screen\n",
    "np.set_printoptions(precision=5, suppress=True)"
   ]
  },
  {
   "cell_type": "markdown",
   "metadata": {},
   "source": [
    " - (1) First, calculate the covariance matrix of the assets. Save it to a variable called `Sigma`. Be sure to set the option of the covariance function to `rowvar=False`, since each column in our matrix is a variable, not each row. Alternatively, you could transpose the matrix."
   ]
  },
  {
   "cell_type": "code",
   "execution_count": 12,
   "metadata": {},
   "outputs": [
    {
     "data": {
      "text/plain": [
       "array([0.81393, 0.45069, 1.77966, 0.35557, 2.11412])"
      ]
     },
     "execution_count": 12,
     "metadata": {},
     "output_type": "execute_result"
    }
   ],
   "source": [
    "np.std(rets, axis=0)"
   ]
  },
  {
   "cell_type": "code",
   "execution_count": 13,
   "metadata": {},
   "outputs": [
    {
     "data": {
      "text/plain": [
       "array([[ 0.66381,  0.04167,  0.34706,  0.18853,  0.57991],\n",
       "       [ 0.04167,  0.20353, -0.11363,  0.00331,  0.2211 ],\n",
       "       [ 0.34706, -0.11363,  3.17355,  0.19883,  0.78017],\n",
       "       [ 0.18853,  0.00331,  0.19883,  0.12669,  0.05977],\n",
       "       [ 0.57991,  0.2211 ,  0.78017,  0.05977,  4.47846]])"
      ]
     },
     "execution_count": 13,
     "metadata": {},
     "output_type": "execute_result"
    }
   ],
   "source": [
    "Sigma = np.cov(rets, rowvar=False)\n",
    "Sigma"
   ]
  },
  {
   "cell_type": "markdown",
   "metadata": {},
   "source": [
    " - (2)\n",
    "Write an in-line function that calculates the return variance for the allocation, `w`, using the formula\n",
    "$$\n",
    "w' \\Sigma w.\n",
    "$$\n",
    "Try out your new function using the following portfolio weights:\n",
    "\n",
    "    w = np.array([1,0,0,0,0])\n",
    "    w = np.array([.2, .2, .2, .2, .2])\n",
    "    w = np.array([.4, 0, .2, .2, .2])"
   ]
  },
  {
   "cell_type": "code",
   "execution_count": 14,
   "metadata": {},
   "outputs": [],
   "source": [
    "f = lambda w: w.transpose() @ Sigma @ w"
   ]
  },
  {
   "cell_type": "code",
   "execution_count": 15,
   "metadata": {},
   "outputs": [
    {
     "data": {
      "text/plain": [
       "0.663805608592516"
      ]
     },
     "execution_count": 15,
     "metadata": {},
     "output_type": "execute_result"
    }
   ],
   "source": [
    "w = np.array([1,0,0,0,0])\n",
    "f(w)"
   ]
  },
  {
   "cell_type": "code",
   "execution_count": 16,
   "metadata": {},
   "outputs": [
    {
     "data": {
      "text/plain": [
       "0.530379191322454"
      ]
     },
     "execution_count": 16,
     "metadata": {},
     "output_type": "execute_result"
    }
   ],
   "source": [
    "w = np.array([.2, .2, .2, .2, .2])\n",
    "f(w)"
   ]
  },
  {
   "cell_type": "code",
   "execution_count": 17,
   "metadata": {},
   "outputs": [
    {
     "data": {
      "text/plain": [
       "0.6789394052607582"
      ]
     },
     "execution_count": 17,
     "metadata": {},
     "output_type": "execute_result"
    }
   ],
   "source": [
    "w = np.array([.4, 0, .2, .2, .2])\n",
    "f(w)"
   ]
  },
  {
   "cell_type": "markdown",
   "metadata": {},
   "source": [
    " - (3) Write a constraint function called `con`. This takes in the vector of portfolio weights `w` and returns the difference between 1 and the sum of the portfolio weights. The purpose is that if the weights sum to one, then the function returns a zero. The zero indicates that the contraint holds."
   ]
  },
  {
   "cell_type": "code",
   "execution_count": 18,
   "metadata": {},
   "outputs": [],
   "source": [
    "con = lambda w: np.sum(w) - 1"
   ]
  },
  {
   "cell_type": "markdown",
   "metadata": {},
   "source": [
    " - (4) Minimize this portfolio variance, subject to the constraint that portfolio weights add to 1. \n",
    " \n",
    "To do this, check out the available constrained optimizers listed in the Scipy documentation: https://docs.scipy.org/doc/scipy/reference/optimize.html\n",
    "\n",
    "Use sequential least squares: `scipy.optimize.fmin_slsqp`. Set the desired accuracy to `acc=1e-09` and set the option `iprint=2` so that the optimizer will display information at each iteration of the algorithm. You will need to set an initial guess for the optimizer to start from. Set the initial guess to\n",
    "\n",
    "    w0 = np.array([.2, .2, .2, .2, .2])\n",
    "    \n",
    "Save the final results into a new variable called `wstar`."
   ]
  },
  {
   "cell_type": "code",
   "execution_count": 19,
   "metadata": {},
   "outputs": [
    {
     "name": "stdout",
     "output_type": "stream",
     "text": [
      "  NIT    FC           OBJFUN            GNORM\n",
      "    1     7     5.303792E-01     3.110235E+00\n",
      "    2    15     1.451155E-01     7.936443E-01\n",
      "    3    23     1.184656E-01     5.916318E-01\n",
      "    4    30     8.320087E-02     3.802272E-01\n",
      "    5    37     7.935392E-02     3.661971E-01\n",
      "    6    44     7.273365E-02     3.251030E-01\n",
      "    7    51     7.273360E-02     3.252712E-01\n",
      "Optimization terminated successfully.    (Exit mode 0)\n",
      "            Current function value: 0.07273359519756034\n",
      "            Iterations: 7\n",
      "            Function evaluations: 51\n",
      "            Gradient evaluations: 7\n"
     ]
    },
    {
     "data": {
      "text/plain": [
       "array([-0.13465,  0.36827,  0.00203,  0.75935,  0.00501])"
      ]
     },
     "execution_count": 19,
     "metadata": {},
     "output_type": "execute_result"
    }
   ],
   "source": [
    "w0 = np.array([.2, .2, .2, .2, .2])\n",
    "wstar = scipy.optimize.fmin_slsqp(f, w0, f_eqcons=con, acc=1e-09, iprint=2)\n",
    "wstar"
   ]
  },
  {
   "cell_type": "markdown",
   "metadata": {},
   "source": [
    " - (5) Test your newly optimized function. Evaluate the covariance of the portfolio at `wstar` and \n",
    "    \n",
    "    `wstar + np.array([0.1, 0, 0, 0, -0.1])`\n",
    "\n",
    "and\n",
    "\n",
    "    wstar - np.array([0.1, 0, 0, 0, -0.1])\n",
    "    \n",
    "The perturbation will ensure that the constraint still holds. Does `wstar` appear to be an minimum?"
   ]
  },
  {
   "cell_type": "code",
   "execution_count": 20,
   "metadata": {},
   "outputs": [
    {
     "data": {
      "text/plain": [
       "0.07273359519756034"
      ]
     },
     "execution_count": 20,
     "metadata": {},
     "output_type": "execute_result"
    }
   ],
   "source": [
    "f(wstar)"
   ]
  },
  {
   "cell_type": "code",
   "execution_count": 21,
   "metadata": {},
   "outputs": [
    {
     "data": {
      "text/plain": [
       "0.11255769795725505"
      ]
     },
     "execution_count": 21,
     "metadata": {},
     "output_type": "execute_result"
    }
   ],
   "source": [
    "f(wstar + np.array([0.1, 0, 0, 0, -0.1]))"
   ]
  },
  {
   "cell_type": "code",
   "execution_count": 22,
   "metadata": {},
   "outputs": [
    {
     "data": {
      "text/plain": [
       "0.11255830646366743"
      ]
     },
     "execution_count": 22,
     "metadata": {},
     "output_type": "execute_result"
    }
   ],
   "source": [
    "f(wstar - np.array([0.1, 0, 0, 0, -0.1]))"
   ]
  }
 ],
 "metadata": {
  "kernelspec": {
   "display_name": "Python 3",
   "language": "python",
   "name": "python3"
  },
  "language_info": {
   "codemirror_mode": {
    "name": "ipython",
    "version": 3
   },
   "file_extension": ".py",
   "mimetype": "text/x-python",
   "name": "python",
   "nbconvert_exporter": "python",
   "pygments_lexer": "ipython3",
   "version": "3.6.4"
  },
  "varInspector": {
   "cols": {
    "lenName": 16,
    "lenType": 16,
    "lenVar": 40
   },
   "kernels_config": {
    "python": {
     "delete_cmd_postfix": "",
     "delete_cmd_prefix": "del ",
     "library": "var_list.py",
     "varRefreshCmd": "print(var_dic_list())"
    },
    "r": {
     "delete_cmd_postfix": ") ",
     "delete_cmd_prefix": "rm(",
     "library": "var_list.r",
     "varRefreshCmd": "cat(var_dic_list()) "
    }
   },
   "types_to_exclude": [
    "module",
    "function",
    "builtin_function_or_method",
    "instance",
    "_Feature"
   ],
   "window_display": false
  }
 },
 "nbformat": 4,
 "nbformat_minor": 2
}
