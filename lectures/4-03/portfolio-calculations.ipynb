{
 "cells": [
  {
   "cell_type": "markdown",
   "metadata": {},
   "source": [
    "In this notebook, we will practice some calculations of portfolio returns. This will give us some practice using Numpy arrays and plotting with Matplotlib."
   ]
  },
  {
   "cell_type": "code",
   "execution_count": null,
   "metadata": {},
   "outputs": [],
   "source": [
    "# always import all necessary libraries at the top of the file\n",
    "import numpy as np\n",
    "from matplotlib import pyplot as plt\n",
    "import pandas as pd"
   ]
  },
  {
   "cell_type": "markdown",
   "metadata": {},
   "source": [
    "# Data\n",
    "\n",
    "We'll begin by loading data from the file `dataPort.csv`. This contains a matrix of prices, each row corresponding to a day. The columns, in order from left to right, correspond to the S&P 500 index, crude oil index, and the U.S. 10-year Treasury index."
   ]
  },
  {
   "cell_type": "code",
   "execution_count": null,
   "metadata": {},
   "outputs": [],
   "source": [
    "data_port = pd.read_csv('./dataPort.csv', parse_dates=['date'])"
   ]
  },
  {
   "cell_type": "code",
   "execution_count": null,
   "metadata": {},
   "outputs": [],
   "source": [
    "data_port.dtypes"
   ]
  },
  {
   "cell_type": "code",
   "execution_count": null,
   "metadata": {},
   "outputs": [],
   "source": [
    "data_port.head()"
   ]
  },
  {
   "cell_type": "code",
   "execution_count": null,
   "metadata": {},
   "outputs": [],
   "source": [
    "data_port.tail()"
   ]
  },
  {
   "cell_type": "code",
   "execution_count": null,
   "metadata": {},
   "outputs": [],
   "source": [
    "# Don't worry about the Pandas details here\n",
    "prices = data_port.iloc[:,1:].values"
   ]
  },
  {
   "cell_type": "code",
   "execution_count": null,
   "metadata": {},
   "outputs": [],
   "source": [
    "prices"
   ]
  },
  {
   "cell_type": "code",
   "execution_count": null,
   "metadata": {},
   "outputs": [],
   "source": [
    "type(prices)"
   ]
  },
  {
   "cell_type": "code",
   "execution_count": null,
   "metadata": {},
   "outputs": [],
   "source": [
    "dates = data_port.iloc[:,0].values\n",
    "dates[0:10]"
   ]
  },
  {
   "cell_type": "markdown",
   "metadata": {},
   "source": [
    "# Data Manipulation\n",
    "\n",
    " Create 3 column vectors---each containing the price history of one of the asset classes. Name the vectors `sp500`, `oil`, `bonds`."
   ]
  },
  {
   "cell_type": "code",
   "execution_count": null,
   "metadata": {},
   "outputs": [],
   "source": []
  },
  {
   "cell_type": "markdown",
   "metadata": {},
   "source": [
    " Create a row vector, `pNow`, with the latest price of each security."
   ]
  },
  {
   "cell_type": "code",
   "execution_count": null,
   "metadata": {},
   "outputs": [],
   "source": []
  },
  {
   "cell_type": "markdown",
   "metadata": {},
   "source": [
    " Calculate the number of days `Nt` and the number of assets `Nk`."
   ]
  },
  {
   "cell_type": "code",
   "execution_count": null,
   "metadata": {},
   "outputs": [],
   "source": []
  },
  {
   "cell_type": "markdown",
   "metadata": {},
   "source": [
    " Calculate the matrix of history of returns for the three assets. Calculate both the log-return (`rets_log`) and the level-return (`rets`). The log and level returns are defined as:\n",
    " \n",
    " - log-return, $\\tilde r_t = \\log \\left( \\frac{P_{t+1}}{P_t} \\right)$\n",
    " - level-return, $r_t = \\frac{P_{t+1}}{P_t} - 1$"
   ]
  },
  {
   "cell_type": "code",
   "execution_count": null,
   "metadata": {},
   "outputs": [],
   "source": []
  },
  {
   "cell_type": "markdown",
   "metadata": {},
   "source": [
    "Calculate a matrix of cumulative returns of the assets, named `rets_cum_log` and `rets_cum`. Recall that the cumulative return is simply\n",
    "\n",
    " - log-return, $\\tilde r_{t,t_h} = \\log \\left( \\frac{P_{t+h}}{P_t} \\right)$\n",
    " - level-return, $r_{t,t+h} = \\frac{P_{t+h}}{P_t} - 1$.\n",
    " \n",
    "Note that you may find the Numpy function `numpy.matlib.repmat` helpful here. It allows you to build an array where every row corresponds to $P_t$. You can then use this array in the denominator of array arithmetic and skip any need for coding loops. You could also do this with matrix multiplication involving a vector of 1's."
   ]
  },
  {
   "cell_type": "code",
   "execution_count": null,
   "metadata": {},
   "outputs": [],
   "source": []
  },
  {
   "cell_type": "markdown",
   "metadata": {},
   "source": [
    "# Calculations\n",
    "\n",
    "Simply for practice, let's make the following calculations. For how many days does the S&P500 log-return and level-return differ by more than 5 basis points? That is,\n",
    "$$\n",
    "| \\tilde r_t - r_t | > .0005\n",
    "$$"
   ]
  },
  {
   "cell_type": "code",
   "execution_count": null,
   "metadata": {},
   "outputs": [],
   "source": []
  },
  {
   "cell_type": "markdown",
   "metadata": {},
   "source": [
    "For which asset is there the biggest difference in the total cumulative level-return versus the total cumulative log-return? That is, compute the absolute value of the difference between the log-return and the level-return at each time period. Sum these difference over each time period. Do this for each asset and see for which asset these differences are the largest."
   ]
  },
  {
   "cell_type": "code",
   "execution_count": null,
   "metadata": {},
   "outputs": [],
   "source": []
  },
  {
   "cell_type": "markdown",
   "metadata": {},
   "source": [
    "Suppose an investor puts weights of 50%, 30%, and 20% in the S&P500, oil, and bonds. Calculate the history of portfolio returns, (level-returns). Call this vector `rets_port`."
   ]
  },
  {
   "cell_type": "code",
   "execution_count": null,
   "metadata": {},
   "outputs": [],
   "source": []
  },
  {
   "cell_type": "markdown",
   "metadata": {},
   "source": [
    "What percentage of days does the portfolio have a positive return?"
   ]
  },
  {
   "cell_type": "code",
   "execution_count": null,
   "metadata": {},
   "outputs": [],
   "source": []
  },
  {
   "cell_type": "markdown",
   "metadata": {},
   "source": [
    "Calculate the history of cumulative (level-)returns of the portfolio. Call this `rets_cum_port`. Calculate the cumulative portfolio return by starting with the portfolio return series and using `numpy.cumprod`."
   ]
  },
  {
   "cell_type": "code",
   "execution_count": null,
   "metadata": {},
   "outputs": [],
   "source": []
  },
  {
   "cell_type": "markdown",
   "metadata": {},
   "source": [
    "Calculate the cumulative log-returns of the three separate assets using `numpy.cumsum`."
   ]
  },
  {
   "cell_type": "code",
   "execution_count": null,
   "metadata": {},
   "outputs": [],
   "source": []
  },
  {
   "cell_type": "markdown",
   "metadata": {},
   "source": [
    "# Plots\n",
    "\n",
    "Create a plot of the price history of the S&P 500."
   ]
  },
  {
   "cell_type": "code",
   "execution_count": null,
   "metadata": {},
   "outputs": [],
   "source": []
  },
  {
   "cell_type": "markdown",
   "metadata": {},
   "source": [
    "In a separate figure, create 4 sub-plots of cumulative returns. That is, plot the history of cumulative returns for each of the 3 assets as well as the portfolio. Use pyplot's `subplot` function.\n",
    "\n",
    "You can check here to see Crude Oil prices to verify that this looks correct: http://www.macrotrends.net/1369/crude-oil-price-history-chart"
   ]
  },
  {
   "cell_type": "code",
   "execution_count": null,
   "metadata": {},
   "outputs": [],
   "source": []
  },
  {
   "cell_type": "markdown",
   "metadata": {},
   "source": [
    "Make the same plot as above again. However, this time, make sure that the y-axis is the same on each plot. You can do this the manually using pyplot's `ylim` (note the corresponding `xlim` function) or you can do this the better way using pyplot's shared axis feature seen here: https://matplotlib.org/gallery/subplots_axes_and_figures/shared_axis_demo.html#sphx-glr-gallery-subplots-axes-and-figures-shared-axis-demo-py"
   ]
  },
  {
   "cell_type": "code",
   "execution_count": null,
   "metadata": {},
   "outputs": [],
   "source": []
  },
  {
   "cell_type": "markdown",
   "metadata": {},
   "source": [
    "Finally, create another figure where you plot both the S&P500 cumulative return history as well as the portfolio cumulative return history in the same figure. Give each plot a label and include a legend. To do this, look up the pyplot `legend` function: https://matplotlib.org/api/_as_gen/matplotlib.pyplot.legend.html"
   ]
  },
  {
   "cell_type": "code",
   "execution_count": null,
   "metadata": {},
   "outputs": [],
   "source": []
  },
  {
   "cell_type": "markdown",
   "metadata": {},
   "source": [
    "# Extra\n",
    "\n",
    "- Try plotting the dates against the cumulative returns. Use `plt.plot(x,y)` where `x` is the dates and `y` is the returns data (a `499 x 3` array). For the dates data, use `data_port['dates']` or `data_port.dates`. \n",
    "\n",
    "- Note that it will be helpful to rotate the ticks on the x-axis. You can do this using the function shown here: https://stackoverflow.com/a/37708190/1411791\n",
    "\n",
    "- Add a legend. Specify the legend with `plt.legend(['label1', 'label2', 'label3'])`"
   ]
  },
  {
   "cell_type": "code",
   "execution_count": null,
   "metadata": {},
   "outputs": [],
   "source": []
  },
  {
   "cell_type": "markdown",
   "metadata": {},
   "source": [
    "Try using xlabel, ylabel, title. Search the matplotlib.pyplot help documentation for more."
   ]
  },
  {
   "cell_type": "code",
   "execution_count": null,
   "metadata": {},
   "outputs": [],
   "source": []
  },
  {
   "cell_type": "markdown",
   "metadata": {},
   "source": [
    "Try calculating the basic statistics of the level returns. Get the mean, standard-deviation,\n",
    "skewness, and correlations. Mean, standard deviation, and correlation can be calculated in numpy. The skewness can be calculated using `scipy.stats.skew`"
   ]
  },
  {
   "cell_type": "code",
   "execution_count": null,
   "metadata": {},
   "outputs": [],
   "source": []
  },
  {
   "cell_type": "markdown",
   "metadata": {},
   "source": [
    "The return matrices have one less row than the price matrix. Remedy this by adding a first row of NaN values to the return matrices. Use numpy's `vstack` function."
   ]
  },
  {
   "cell_type": "code",
   "execution_count": null,
   "metadata": {},
   "outputs": [],
   "source": []
  },
  {
   "cell_type": "markdown",
   "metadata": {},
   "source": [
    "Import the `seaborn` package and run `seaborn.set()` to change the default matplotlib style. Regenerate some of the plots above to see how the style changes."
   ]
  },
  {
   "cell_type": "code",
   "execution_count": null,
   "metadata": {},
   "outputs": [],
   "source": []
  }
 ],
 "metadata": {
  "kernelspec": {
   "display_name": "Python 3",
   "language": "python",
   "name": "python3"
  },
  "language_info": {
   "codemirror_mode": {
    "name": "ipython",
    "version": 3
   },
   "file_extension": ".py",
   "mimetype": "text/x-python",
   "name": "python",
   "nbconvert_exporter": "python",
   "pygments_lexer": "ipython3",
   "version": "3.6.4"
  },
  "varInspector": {
   "cols": {
    "lenName": 16,
    "lenType": 16,
    "lenVar": 40
   },
   "kernels_config": {
    "python": {
     "delete_cmd_postfix": "",
     "delete_cmd_prefix": "del ",
     "library": "var_list.py",
     "varRefreshCmd": "print(var_dic_list())"
    },
    "r": {
     "delete_cmd_postfix": ") ",
     "delete_cmd_prefix": "rm(",
     "library": "var_list.r",
     "varRefreshCmd": "cat(var_dic_list()) "
    }
   },
   "types_to_exclude": [
    "module",
    "function",
    "builtin_function_or_method",
    "instance",
    "_Feature"
   ],
   "window_display": false
  }
 },
 "nbformat": 4,
 "nbformat_minor": 2
}
