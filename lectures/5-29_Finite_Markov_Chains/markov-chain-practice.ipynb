{
 "cells": [
  {
   "cell_type": "markdown",
   "metadata": {},
   "source": [
    "### Practice Question 1\n",
    "\n",
    "**Using `quantecon`, create a MarkovChain object that has the following properties. Simulate it for `T=100`.**\n",
    "\n",
    "*Description of Markov Process*\n",
    "\n",
    "Wages can be in one of three states: 10, 20, or 30.\n",
    "If $w_t = 10$, then there is a .5 probability that $w_{t+1}=10$ and a .5 probability that $w_{t+1} = 20$. If $w_t = 20$, there is a .5 probability that $w_{t+1} = 20$, a .25 probability that $w_{t+1} = 10$ and .25 probability that $w_{t+1} = 30$. If $w_t = 30$, then there is a .5 probability that $w_{t+1} = 30$ and a .5 probability that $w_{t+1}= 20$.\n",
    "\n",
    "\n",
    "\n",
    "\n"
   ]
  },
  {
   "cell_type": "markdown",
   "metadata": {},
   "source": [
    "SOLUTION:\n",
    "\n",
    "We can create a simulate the Markov process with the `quantecon` package like so:"
   ]
  },
  {
   "cell_type": "code",
   "execution_count": 1,
   "metadata": {},
   "outputs": [],
   "source": [
    "import numpy as np\n",
    "from numba import jit\n",
    "import matplotlib.pyplot as plt\n",
    "import quantecon as qe\n",
    "np.set_printoptions(precision=2, suppress=True)"
   ]
  },
  {
   "cell_type": "code",
   "execution_count": 2,
   "metadata": {},
   "outputs": [
    {
     "data": {
      "text/plain": [
       "[<matplotlib.lines.Line2D at 0x1635e32e320>]"
      ]
     },
     "execution_count": 2,
     "metadata": {},
     "output_type": "execute_result"
    },
    {
     "data": {
      "image/png": "[encoded data removed]",
      "text/plain": [
       "<Figure size 432x288 with 1 Axes>"
      ]
     },
     "metadata": {},
     "output_type": "display_data"
    }
   ],
   "source": [
    "\n",
    "state_values = np.array([10, 20, 30])\n",
    "P = np.array([[.5, .5, 0],\n",
    "              [.25, .5, .25],\n",
    "              [0, .5, .5]])\n",
    "mc = qe.markov.MarkovChain(P, state_values=state_values)\n",
    "np.random.seed(123)\n",
    "plt.plot(mc.simulate(100))"
   ]
  },
  {
   "cell_type": "markdown",
   "metadata": {},
   "source": [
    "### Practice Question 2\n",
    "\n",
    "**Approximate an AR(1) with a Finite State Markov Chain**\n",
    "\n",
    "Consider the autoregressive stochastic process\n",
    "$$\n",
    "w_{t+1} = (1-\\rho) \\mu + \\rho w_t + \\epsilon_{t+1},\n",
    "$$\n",
    "where $\\epsilon_{t+1}$ is an iid sequence of shocks that are Normally distributed with mean 0 and standard deviation $\\sigma$.\n",
    "Note that by assuming this form, we have the unconditional expectation $E[w_t] = \\mu$ and unconditional variance $Var(w_t) = \\frac{\\sigma^2}{1-\\rho^2}$.\n",
    "\n",
    "Now, as we discussed in the lecture on [Finite State Markov chains](https://lectures.quantecon.org/py/finite_markov.html), we can [approximate this continuous state space markov process with a finite state markov chain.](https://lectures.quantecon.org/py/finite_markov.html#exercise-3)\n",
    "\n",
    "Let us approximate this process with `n=50` points, with $\\mu=30$, $\\rho=.9$, and $\\sigma=10$. Write code that uses `quantecon` to build this approximation."
   ]
  },
  {
   "cell_type": "markdown",
   "metadata": {},
   "source": [
    "SOLUTION:\n",
    "\n",
    "The code below creates this approximation using the [tools](http://quanteconpy.readthedocs.io/en/latest/markov/approximation.html#quantecon.markov.approximation.rouwenhorst) in the `quantecon` package:"
   ]
  },
  {
   "cell_type": "code",
   "execution_count": 3,
   "metadata": {},
   "outputs": [],
   "source": [
    "import numpy as np\n",
    "from numba import jit\n",
    "import matplotlib.pyplot as plt\n",
    "import quantecon as qe\n",
    "np.set_printoptions(precision=2, suppress=True)\n",
    "\n",
    "n = 50\n",
    "rho = .9\n",
    "mu = 10\n",
    "sigma = 1\n",
    "ybar = mu * (1-rho)\n",
    "mc = qe.markov.approximation.rouwenhorst(n, ybar, sigma, rho)"
   ]
  },
  {
   "cell_type": "markdown",
   "metadata": {},
   "source": [
    "Below you can see the nodes and the transition matrix associated with this approximation, respectively."
   ]
  },
  {
   "cell_type": "code",
   "execution_count": 4,
   "metadata": {},
   "outputs": [
    {
     "data": {
      "text/plain": [
       "array([-6.06, -5.4 , -4.75, -4.09, -3.44, -2.78, -2.13, -1.47, -0.82,\n",
       "       -0.16,  0.5 ,  1.15,  1.81,  2.46,  3.12,  3.77,  4.43,  5.08,\n",
       "        5.74,  6.39,  7.05,  7.71,  8.36,  9.02,  9.67, 10.33, 10.98,\n",
       "       11.64, 12.29, 12.95, 13.61, 14.26, 14.92, 15.57, 16.23, 16.88,\n",
       "       17.54, 18.19, 18.85, 19.5 , 20.16, 20.82, 21.47, 22.13, 22.78,\n",
       "       23.44, 24.09, 24.75, 25.4 , 26.06])"
      ]
     },
     "execution_count": 4,
     "metadata": {},
     "output_type": "execute_result"
    }
   ],
   "source": [
    "mc.state_values"
   ]
  },
  {
   "cell_type": "code",
   "execution_count": 5,
   "metadata": {},
   "outputs": [
    {
     "data": {
      "text/plain": [
       "array([[0.08, 0.21, 0.26, ..., 0.  , 0.  , 0.  ],\n",
       "       [0.  , 0.09, 0.22, ..., 0.  , 0.  , 0.  ],\n",
       "       [0.  , 0.01, 0.1 , ..., 0.  , 0.  , 0.  ],\n",
       "       ...,\n",
       "       [0.  , 0.  , 0.  , ..., 0.1 , 0.01, 0.  ],\n",
       "       [0.  , 0.  , 0.  , ..., 0.22, 0.09, 0.  ],\n",
       "       [0.  , 0.  , 0.  , ..., 0.26, 0.21, 0.08]])"
      ]
     },
     "execution_count": 5,
     "metadata": {},
     "output_type": "execute_result"
    }
   ],
   "source": [
    "mc.P"
   ]
  },
  {
   "cell_type": "markdown",
   "metadata": {},
   "source": [
    "### Practice Question 3\n",
    "\n",
    "**How would you modify the McCall Search model if wages were instead governed by a finite state markov chain?**"
   ]
  },
  {
   "cell_type": "code",
   "execution_count": 6,
   "metadata": {},
   "outputs": [],
   "source": [
    "# Your Code Here"
   ]
  }
 ],
 "metadata": {
  "kernelspec": {
   "display_name": "Python 3",
   "language": "python",
   "name": "python3"
  },
  "language_info": {
   "codemirror_mode": {
    "name": "ipython",
    "version": 3
   },
   "file_extension": ".py",
   "mimetype": "text/x-python",
   "name": "python",
   "nbconvert_exporter": "python",
   "pygments_lexer": "ipython3",
   "version": "3.6.5"
  }
 },
 "nbformat": 4,
 "nbformat_minor": 2
}
