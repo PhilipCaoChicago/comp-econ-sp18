{
 "cells": [
  {
   "cell_type": "markdown",
   "metadata": {},
   "source": [
    "In this notebook I'll explore how to do statistics while using Pandas as the backbone\n",
    "\n",
    "# OLS\n",
    "\n",
    "This example is taken from here: http://stackoverflow.com/questions/19991445/run-an-ols-regression-with-pandas-data-frame\n",
    "\n",
    "## Regular API\n",
    "\n",
    "I'll start by using the regular API.\n"
   ]
  },
  {
   "cell_type": "code",
   "execution_count": 1,
   "metadata": {},
   "outputs": [],
   "source": [
    "import numpy as np\n",
    "import statsmodels.api as sm\n",
    "import statsmodels.formula.api as smf\n",
    "import matplotlib.pyplot as plt\n",
    "import linearmodels\n",
    "from statsmodels.sandbox.regression.predstd import wls_prediction_std\n",
    "\n",
    "np.random.seed(9876789)"
   ]
  },
  {
   "cell_type": "code",
   "execution_count": 2,
   "metadata": {},
   "outputs": [],
   "source": [
    "%load_ext rpy2.ipython"
   ]
  },
  {
   "cell_type": "code",
   "execution_count": 3,
   "metadata": {},
   "outputs": [],
   "source": [
    "nsample = 100\n",
    "x = np.linspace(0, 10, 100)\n",
    "X = np.column_stack((x, x**2))\n",
    "beta = np.array([1, 0.1, 10])\n",
    "e = np.random.normal(size=nsample)"
   ]
  },
  {
   "cell_type": "code",
   "execution_count": 4,
   "metadata": {},
   "outputs": [],
   "source": [
    "X = sm.add_constant(X)\n",
    "y = np.dot(X, beta) + e"
   ]
  },
  {
   "cell_type": "code",
   "execution_count": 5,
   "metadata": {},
   "outputs": [
    {
     "name": "stdout",
     "output_type": "stream",
     "text": [
      "                            OLS Regression Results                            \n",
      "==============================================================================\n",
      "Dep. Variable:                      y   R-squared:                       1.000\n",
      "Model:                            OLS   Adj. R-squared:                  1.000\n",
      "Method:                 Least Squares   F-statistic:                 4.020e+06\n",
      "Date:                Thu, 17 May 2018   Prob (F-statistic):          2.83e-239\n",
      "Time:                        18:39:28   Log-Likelihood:                -146.51\n",
      "No. Observations:                 100   AIC:                             299.0\n",
      "Df Residuals:                      97   BIC:                             306.8\n",
      "Df Model:                           2                                         \n",
      "Covariance Type:            nonrobust                                         \n",
      "==============================================================================\n",
      "                 coef    std err          t      P>|t|      [0.025      0.975]\n",
      "------------------------------------------------------------------------------\n",
      "const          1.3423      0.313      4.292      0.000       0.722       1.963\n",
      "x1            -0.0402      0.145     -0.278      0.781      -0.327       0.247\n",
      "x2            10.0103      0.014    715.745      0.000       9.982      10.038\n",
      "==============================================================================\n",
      "Omnibus:                        2.042   Durbin-Watson:                   2.274\n",
      "Prob(Omnibus):                  0.360   Jarque-Bera (JB):                1.875\n",
      "Skew:                           0.234   Prob(JB):                        0.392\n",
      "Kurtosis:                       2.519   Cond. No.                         144.\n",
      "==============================================================================\n",
      "\n",
      "Warnings:\n",
      "[1] Standard Errors assume that the covariance matrix of the errors is correctly specified.\n"
     ]
    }
   ],
   "source": [
    "model = sm.OLS(y, X)\n",
    "results = model.fit()\n",
    "print(results.summary())"
   ]
  },
  {
   "cell_type": "markdown",
   "metadata": {},
   "source": [
    "### Formula API\n",
    "\n",
    "Now we use the `formula` API."
   ]
  },
  {
   "cell_type": "code",
   "execution_count": 6,
   "metadata": {},
   "outputs": [
    {
     "data": {
      "text/html": [
       "<div>\n",
       "<style scoped>\n",
       "    .dataframe tbody tr th:only-of-type {\n",
       "        vertical-align: middle;\n",
       "    }\n",
       "\n",
       "    .dataframe tbody tr th {\n",
       "        vertical-align: top;\n",
       "    }\n",
       "\n",
       "    .dataframe thead th {\n",
       "        text-align: right;\n",
       "    }\n",
       "</style>\n",
       "<table border=\"1\" class=\"dataframe\">\n",
       "  <thead>\n",
       "    <tr style=\"text-align: right;\">\n",
       "      <th></th>\n",
       "      <th>A</th>\n",
       "      <th>B</th>\n",
       "      <th>C</th>\n",
       "    </tr>\n",
       "  </thead>\n",
       "  <tbody>\n",
       "    <tr>\n",
       "      <th>0</th>\n",
       "      <td>10</td>\n",
       "      <td>20</td>\n",
       "      <td>32</td>\n",
       "    </tr>\n",
       "    <tr>\n",
       "      <th>1</th>\n",
       "      <td>20</td>\n",
       "      <td>30</td>\n",
       "      <td>234</td>\n",
       "    </tr>\n",
       "    <tr>\n",
       "      <th>2</th>\n",
       "      <td>30</td>\n",
       "      <td>10</td>\n",
       "      <td>23</td>\n",
       "    </tr>\n",
       "    <tr>\n",
       "      <th>3</th>\n",
       "      <td>40</td>\n",
       "      <td>40</td>\n",
       "      <td>23</td>\n",
       "    </tr>\n",
       "    <tr>\n",
       "      <th>4</th>\n",
       "      <td>50</td>\n",
       "      <td>50</td>\n",
       "      <td>42523</td>\n",
       "    </tr>\n",
       "  </tbody>\n",
       "</table>\n",
       "</div>"
      ],
      "text/plain": [
       "    A   B      C\n",
       "0  10  20     32\n",
       "1  20  30    234\n",
       "2  30  10     23\n",
       "3  40  40     23\n",
       "4  50  50  42523"
      ]
     },
     "execution_count": 6,
     "metadata": {},
     "output_type": "execute_result"
    }
   ],
   "source": [
    "import pandas as pd\n",
    "import statsmodels.formula.api as smf\n",
    "df = pd.DataFrame({\"A\": [10,20,30,40,50], \"B\": [20, 30, 10, 40, 50], \"C\": [32, 234, 23, 23, 42523]})\n",
    "df"
   ]
  },
  {
   "cell_type": "code",
   "execution_count": 7,
   "metadata": {},
   "outputs": [
    {
     "data": {
      "text/plain": [
       "Intercept    14.952480\n",
       "B             0.401182\n",
       "C             0.000352\n",
       "dtype: float64"
      ]
     },
     "execution_count": 7,
     "metadata": {},
     "output_type": "execute_result"
    }
   ],
   "source": [
    "result = smf.ols(formula=\"A ~ B + C\", data=df).fit()\n",
    "result.params"
   ]
  },
  {
   "cell_type": "code",
   "execution_count": 8,
   "metadata": {},
   "outputs": [
    {
     "name": "stderr",
     "output_type": "stream",
     "text": [
      "/home/vagrant/anaconda/lib/python3.6/site-packages/statsmodels/stats/stattools.py:72: ValueWarning: omni_normtest is not valid with less than 8 observations; 5 samples were given.\n",
      "  \"samples were given.\" % int(n), ValueWarning)\n"
     ]
    },
    {
     "data": {
      "text/html": [
       "<table class=\"simpletable\">\n",
       "<caption>OLS Regression Results</caption>\n",
       "<tr>\n",
       "  <th>Dep. Variable:</th>            <td>A</td>        <th>  R-squared:         </th> <td>   0.579</td>\n",
       "</tr>\n",
       "<tr>\n",
       "  <th>Model:</th>                   <td>OLS</td>       <th>  Adj. R-squared:    </th> <td>   0.158</td>\n",
       "</tr>\n",
       "<tr>\n",
       "  <th>Method:</th>             <td>Least Squares</td>  <th>  F-statistic:       </th> <td>   1.375</td>\n",
       "</tr>\n",
       "<tr>\n",
       "  <th>Date:</th>             <td>Thu, 17 May 2018</td> <th>  Prob (F-statistic):</th>  <td> 0.421</td> \n",
       "</tr>\n",
       "<tr>\n",
       "  <th>Time:</th>                 <td>18:39:29</td>     <th>  Log-Likelihood:    </th> <td> -18.178</td>\n",
       "</tr>\n",
       "<tr>\n",
       "  <th>No. Observations:</th>      <td>     5</td>      <th>  AIC:               </th> <td>   42.36</td>\n",
       "</tr>\n",
       "<tr>\n",
       "  <th>Df Residuals:</th>          <td>     2</td>      <th>  BIC:               </th> <td>   41.19</td>\n",
       "</tr>\n",
       "<tr>\n",
       "  <th>Df Model:</th>              <td>     2</td>      <th>                     </th>     <td> </td>   \n",
       "</tr>\n",
       "<tr>\n",
       "  <th>Covariance Type:</th>      <td>nonrobust</td>    <th>                     </th>     <td> </td>   \n",
       "</tr>\n",
       "</table>\n",
       "<table class=\"simpletable\">\n",
       "<tr>\n",
       "      <td></td>         <th>coef</th>     <th>std err</th>      <th>t</th>      <th>P>|t|</th>  <th>[0.025</th>    <th>0.975]</th>  \n",
       "</tr>\n",
       "<tr>\n",
       "  <th>Intercept</th> <td>   14.9525</td> <td>   17.764</td> <td>    0.842</td> <td> 0.489</td> <td>  -61.481</td> <td>   91.386</td>\n",
       "</tr>\n",
       "<tr>\n",
       "  <th>B</th>         <td>    0.4012</td> <td>    0.650</td> <td>    0.617</td> <td> 0.600</td> <td>   -2.394</td> <td>    3.197</td>\n",
       "</tr>\n",
       "<tr>\n",
       "  <th>C</th>         <td>    0.0004</td> <td>    0.001</td> <td>    0.650</td> <td> 0.583</td> <td>   -0.002</td> <td>    0.003</td>\n",
       "</tr>\n",
       "</table>\n",
       "<table class=\"simpletable\">\n",
       "<tr>\n",
       "  <th>Omnibus:</th>       <td>   nan</td> <th>  Durbin-Watson:     </th> <td>   1.061</td>\n",
       "</tr>\n",
       "<tr>\n",
       "  <th>Prob(Omnibus):</th> <td>   nan</td> <th>  Jarque-Bera (JB):  </th> <td>   0.498</td>\n",
       "</tr>\n",
       "<tr>\n",
       "  <th>Skew:</th>          <td>-0.123</td> <th>  Prob(JB):          </th> <td>   0.780</td>\n",
       "</tr>\n",
       "<tr>\n",
       "  <th>Kurtosis:</th>      <td> 1.474</td> <th>  Cond. No.          </th> <td>5.21e+04</td>\n",
       "</tr>\n",
       "</table><br/><br/>Warnings:<br/>[1] Standard Errors assume that the covariance matrix of the errors is correctly specified.<br/>[2] The condition number is large, 5.21e+04. This might indicate that there are<br/>strong multicollinearity or other numerical problems."
      ],
      "text/plain": [
       "<class 'statsmodels.iolib.summary.Summary'>\n",
       "\"\"\"\n",
       "                            OLS Regression Results                            \n",
       "==============================================================================\n",
       "Dep. Variable:                      A   R-squared:                       0.579\n",
       "Model:                            OLS   Adj. R-squared:                  0.158\n",
       "Method:                 Least Squares   F-statistic:                     1.375\n",
       "Date:                Thu, 17 May 2018   Prob (F-statistic):              0.421\n",
       "Time:                        18:39:29   Log-Likelihood:                -18.178\n",
       "No. Observations:                   5   AIC:                             42.36\n",
       "Df Residuals:                       2   BIC:                             41.19\n",
       "Df Model:                           2                                         \n",
       "Covariance Type:            nonrobust                                         \n",
       "==============================================================================\n",
       "                 coef    std err          t      P>|t|      [0.025      0.975]\n",
       "------------------------------------------------------------------------------\n",
       "Intercept     14.9525     17.764      0.842      0.489     -61.481      91.386\n",
       "B              0.4012      0.650      0.617      0.600      -2.394       3.197\n",
       "C              0.0004      0.001      0.650      0.583      -0.002       0.003\n",
       "==============================================================================\n",
       "Omnibus:                          nan   Durbin-Watson:                   1.061\n",
       "Prob(Omnibus):                    nan   Jarque-Bera (JB):                0.498\n",
       "Skew:                          -0.123   Prob(JB):                        0.780\n",
       "Kurtosis:                       1.474   Cond. No.                     5.21e+04\n",
       "==============================================================================\n",
       "\n",
       "Warnings:\n",
       "[1] Standard Errors assume that the covariance matrix of the errors is correctly specified.\n",
       "[2] The condition number is large, 5.21e+04. This might indicate that there are\n",
       "strong multicollinearity or other numerical problems.\n",
       "\"\"\""
      ]
     },
     "execution_count": 8,
     "metadata": {},
     "output_type": "execute_result"
    }
   ],
   "source": [
    "result.summary()"
   ]
  },
  {
   "cell_type": "code",
   "execution_count": 9,
   "metadata": {},
   "outputs": [
    {
     "data": {
      "text/plain": [
       "   A  B     C\n",
       "0 10 20    32\n",
       "1 20 30   234\n",
       "2 30 10    23\n",
       "3 40 40    23\n",
       "4 50 50 42523\n"
      ]
     },
     "metadata": {},
     "output_type": "display_data"
    }
   ],
   "source": [
    "%%R -i df\n",
    "df"
   ]
  },
  {
   "cell_type": "code",
   "execution_count": 10,
   "metadata": {},
   "outputs": [
    {
     "data": {
      "text/plain": [
       "\n",
       "Call:\n",
       "lm(formula = A ~ B + C, data = df)\n",
       "\n",
       "Coefficients:\n",
       "(Intercept)            B            C  \n",
       "  1.495e+01    4.012e-01    3.516e-04  \n",
       "\n"
      ]
     },
     "metadata": {},
     "output_type": "display_data"
    }
   ],
   "source": [
    "%%R \n",
    "fit = lm(A ~ B + C, df)\n",
    "fit"
   ]
  },
  {
   "cell_type": "code",
   "execution_count": 11,
   "metadata": {},
   "outputs": [
    {
     "data": {
      "text/plain": [
       "\n",
       "Call:\n",
       "lm(formula = A ~ B + C, data = df)\n",
       "\n",
       "Residuals:\n",
       "        0         1         2         3         4 \n",
       "-12.98738  -7.07022  11.02761   8.99214   0.03785 \n",
       "\n",
       "Coefficients:\n",
       "             Estimate Std. Error t value Pr(>|t|)\n",
       "(Intercept) 1.495e+01  1.776e+01   0.842    0.489\n",
       "B           4.012e-01  6.497e-01   0.617    0.600\n",
       "C           3.516e-04  5.412e-04   0.650    0.583\n",
       "\n",
       "Residual standard error: 14.51 on 2 degrees of freedom\n",
       "Multiple R-squared:  0.5789,\tAdjusted R-squared:  0.1577 \n",
       "F-statistic: 1.375 on 2 and 2 DF,  p-value: 0.4211\n",
       "\n"
      ]
     },
     "metadata": {},
     "output_type": "display_data"
    }
   ],
   "source": [
    "%%R\n",
    "summary(fit)"
   ]
  },
  {
   "cell_type": "markdown",
   "metadata": {
    "collapsed": true
   },
   "source": [
    "# Fixed Effects\n",
    "\n",
    "Here I'll test out fixed effects estimation. In particular, I want to compare the outcomes that I get in Python to the output that I get from Stata. I want to make sure I'm getting the same results. To do this, I'll be using a data exercise from Wooldridge's panel data book. I have solutions to the odd problems in this book and Stata results. So, I can verify that my Stata results are accurate and then proceed with the analysis in Python.\n"
   ]
  },
  {
   "cell_type": "markdown",
   "metadata": {},
   "source": [
    "## Linear Mixed Effects Models\n",
    "\n",
    "\n",
    "#### In `statsmodels`\n",
    "Here is a quick example of the syntax from `statsmodels`. This is taken from here: http://statsmodels.sourceforge.net/devel/mixed_linear.html"
   ]
  },
  {
   "cell_type": "code",
   "execution_count": 12,
   "metadata": {},
   "outputs": [
    {
     "data": {
      "text/html": [
       "<div>\n",
       "<style scoped>\n",
       "    .dataframe tbody tr th:only-of-type {\n",
       "        vertical-align: middle;\n",
       "    }\n",
       "\n",
       "    .dataframe tbody tr th {\n",
       "        vertical-align: top;\n",
       "    }\n",
       "\n",
       "    .dataframe thead th {\n",
       "        text-align: right;\n",
       "    }\n",
       "</style>\n",
       "<table border=\"1\" class=\"dataframe\">\n",
       "  <thead>\n",
       "    <tr style=\"text-align: right;\">\n",
       "      <th></th>\n",
       "      <th>Weight</th>\n",
       "      <th>Feed</th>\n",
       "      <th>Time</th>\n",
       "      <th>Pig</th>\n",
       "      <th>Evit</th>\n",
       "      <th>Cu</th>\n",
       "      <th>Litter</th>\n",
       "    </tr>\n",
       "  </thead>\n",
       "  <tbody>\n",
       "    <tr>\n",
       "      <th>0</th>\n",
       "      <td>26.50000</td>\n",
       "      <td>NaN</td>\n",
       "      <td>1</td>\n",
       "      <td>4601</td>\n",
       "      <td>1</td>\n",
       "      <td>1</td>\n",
       "      <td>1</td>\n",
       "    </tr>\n",
       "    <tr>\n",
       "      <th>1</th>\n",
       "      <td>27.59999</td>\n",
       "      <td>5.200005</td>\n",
       "      <td>2</td>\n",
       "      <td>4601</td>\n",
       "      <td>1</td>\n",
       "      <td>1</td>\n",
       "      <td>1</td>\n",
       "    </tr>\n",
       "    <tr>\n",
       "      <th>2</th>\n",
       "      <td>36.50000</td>\n",
       "      <td>17.600000</td>\n",
       "      <td>3</td>\n",
       "      <td>4601</td>\n",
       "      <td>1</td>\n",
       "      <td>1</td>\n",
       "      <td>1</td>\n",
       "    </tr>\n",
       "    <tr>\n",
       "      <th>3</th>\n",
       "      <td>40.29999</td>\n",
       "      <td>28.500000</td>\n",
       "      <td>4</td>\n",
       "      <td>4601</td>\n",
       "      <td>1</td>\n",
       "      <td>1</td>\n",
       "      <td>1</td>\n",
       "    </tr>\n",
       "    <tr>\n",
       "      <th>4</th>\n",
       "      <td>49.09998</td>\n",
       "      <td>45.200001</td>\n",
       "      <td>5</td>\n",
       "      <td>4601</td>\n",
       "      <td>1</td>\n",
       "      <td>1</td>\n",
       "      <td>1</td>\n",
       "    </tr>\n",
       "  </tbody>\n",
       "</table>\n",
       "</div>"
      ],
      "text/plain": [
       "     Weight       Feed  Time   Pig  Evit  Cu  Litter\n",
       "0  26.50000        NaN     1  4601     1   1       1\n",
       "1  27.59999   5.200005     2  4601     1   1       1\n",
       "2  36.50000  17.600000     3  4601     1   1       1\n",
       "3  40.29999  28.500000     4  4601     1   1       1\n",
       "4  49.09998  45.200001     5  4601     1   1       1"
      ]
     },
     "execution_count": 12,
     "metadata": {},
     "output_type": "execute_result"
    }
   ],
   "source": [
    "import statsmodels.api as sm \n",
    "import statsmodels.formula.api as smf\n",
    "\n",
    "data = sm.datasets.get_rdataset(\"dietox\", \"geepack\").data\n",
    "data.head()"
   ]
  },
  {
   "cell_type": "code",
   "execution_count": 13,
   "metadata": {},
   "outputs": [
    {
     "data": {
      "text/html": [
       "<div>\n",
       "<style scoped>\n",
       "    .dataframe tbody tr th:only-of-type {\n",
       "        vertical-align: middle;\n",
       "    }\n",
       "\n",
       "    .dataframe tbody tr th {\n",
       "        vertical-align: top;\n",
       "    }\n",
       "\n",
       "    .dataframe thead th {\n",
       "        text-align: right;\n",
       "    }\n",
       "</style>\n",
       "<table border=\"1\" class=\"dataframe\">\n",
       "  <thead>\n",
       "    <tr style=\"text-align: right;\">\n",
       "      <th></th>\n",
       "      <th>Weight</th>\n",
       "      <th>Feed</th>\n",
       "      <th>Time</th>\n",
       "      <th>Pig</th>\n",
       "      <th>Evit</th>\n",
       "      <th>Cu</th>\n",
       "      <th>Litter</th>\n",
       "    </tr>\n",
       "  </thead>\n",
       "  <tbody>\n",
       "    <tr>\n",
       "      <th>count</th>\n",
       "      <td>861.000000</td>\n",
       "      <td>789.000000</td>\n",
       "      <td>861.000000</td>\n",
       "      <td>861.000000</td>\n",
       "      <td>861.000000</td>\n",
       "      <td>861.000000</td>\n",
       "      <td>861.000000</td>\n",
       "    </tr>\n",
       "    <tr>\n",
       "      <th>mean</th>\n",
       "      <td>60.725769</td>\n",
       "      <td>80.728645</td>\n",
       "      <td>6.480836</td>\n",
       "      <td>6238.319396</td>\n",
       "      <td>2.026713</td>\n",
       "      <td>2.015099</td>\n",
       "      <td>12.135889</td>\n",
       "    </tr>\n",
       "    <tr>\n",
       "      <th>std</th>\n",
       "      <td>24.978881</td>\n",
       "      <td>52.877736</td>\n",
       "      <td>3.444735</td>\n",
       "      <td>1323.845928</td>\n",
       "      <td>0.817246</td>\n",
       "      <td>0.807525</td>\n",
       "      <td>7.427252</td>\n",
       "    </tr>\n",
       "    <tr>\n",
       "      <th>min</th>\n",
       "      <td>15.000000</td>\n",
       "      <td>3.300003</td>\n",
       "      <td>1.000000</td>\n",
       "      <td>4601.000000</td>\n",
       "      <td>1.000000</td>\n",
       "      <td>1.000000</td>\n",
       "      <td>1.000000</td>\n",
       "    </tr>\n",
       "    <tr>\n",
       "      <th>25%</th>\n",
       "      <td>38.299990</td>\n",
       "      <td>32.800003</td>\n",
       "      <td>3.000000</td>\n",
       "      <td>4857.000000</td>\n",
       "      <td>1.000000</td>\n",
       "      <td>1.000000</td>\n",
       "      <td>5.000000</td>\n",
       "    </tr>\n",
       "    <tr>\n",
       "      <th>50%</th>\n",
       "      <td>59.199980</td>\n",
       "      <td>74.499996</td>\n",
       "      <td>6.000000</td>\n",
       "      <td>5866.000000</td>\n",
       "      <td>2.000000</td>\n",
       "      <td>2.000000</td>\n",
       "      <td>11.000000</td>\n",
       "    </tr>\n",
       "    <tr>\n",
       "      <th>75%</th>\n",
       "      <td>81.199950</td>\n",
       "      <td>123.000000</td>\n",
       "      <td>9.000000</td>\n",
       "      <td>8050.000000</td>\n",
       "      <td>3.000000</td>\n",
       "      <td>3.000000</td>\n",
       "      <td>20.000000</td>\n",
       "    </tr>\n",
       "    <tr>\n",
       "      <th>max</th>\n",
       "      <td>117.000000</td>\n",
       "      <td>224.500000</td>\n",
       "      <td>12.000000</td>\n",
       "      <td>8442.000000</td>\n",
       "      <td>3.000000</td>\n",
       "      <td>3.000000</td>\n",
       "      <td>24.000000</td>\n",
       "    </tr>\n",
       "  </tbody>\n",
       "</table>\n",
       "</div>"
      ],
      "text/plain": [
       "           Weight        Feed        Time          Pig        Evit  \\\n",
       "count  861.000000  789.000000  861.000000   861.000000  861.000000   \n",
       "mean    60.725769   80.728645    6.480836  6238.319396    2.026713   \n",
       "std     24.978881   52.877736    3.444735  1323.845928    0.817246   \n",
       "min     15.000000    3.300003    1.000000  4601.000000    1.000000   \n",
       "25%     38.299990   32.800003    3.000000  4857.000000    1.000000   \n",
       "50%     59.199980   74.499996    6.000000  5866.000000    2.000000   \n",
       "75%     81.199950  123.000000    9.000000  8050.000000    3.000000   \n",
       "max    117.000000  224.500000   12.000000  8442.000000    3.000000   \n",
       "\n",
       "               Cu      Litter  \n",
       "count  861.000000  861.000000  \n",
       "mean     2.015099   12.135889  \n",
       "std      0.807525    7.427252  \n",
       "min      1.000000    1.000000  \n",
       "25%      1.000000    5.000000  \n",
       "50%      2.000000   11.000000  \n",
       "75%      3.000000   20.000000  \n",
       "max      3.000000   24.000000  "
      ]
     },
     "execution_count": 13,
     "metadata": {},
     "output_type": "execute_result"
    }
   ],
   "source": [
    "data.describe()"
   ]
  },
  {
   "cell_type": "code",
   "execution_count": 14,
   "metadata": {},
   "outputs": [
    {
     "data": {
      "text/html": [
       "<table class=\"simpletable\">\n",
       "<tr>\n",
       "       <td>Model:</td>       <td>MixedLM</td> <td>Dependent Variable:</td>   <td>Weight</td>  \n",
       "</tr>\n",
       "<tr>\n",
       "  <td>No. Observations:</td>   <td>861</td>         <td>Method:</td>          <td>REML</td>   \n",
       "</tr>\n",
       "<tr>\n",
       "     <td>No. Groups:</td>      <td>72</td>          <td>Scale:</td>          <td>11.3669</td> \n",
       "</tr>\n",
       "<tr>\n",
       "  <td>Min. group size:</td>    <td>11</td>        <td>Likelihood:</td>     <td>-2404.7753</td>\n",
       "</tr>\n",
       "<tr>\n",
       "  <td>Max. group size:</td>    <td>12</td>        <td>Converged:</td>          <td>Yes</td>   \n",
       "</tr>\n",
       "<tr>\n",
       "  <td>Mean group size:</td>   <td>12.0</td>            <td></td>                <td></td>     \n",
       "</tr>\n",
       "</table>\n",
       "<table class=\"simpletable\">\n",
       "<tr>\n",
       "      <td></td>       <th>Coef.</th> <th>Std.Err.</th>    <th>z</th>    <th>P>|z|</th> <th>[0.025</th> <th>0.975]</th>\n",
       "</tr>\n",
       "<tr>\n",
       "  <th>Intercept</th> <td>15.724</td>   <td>0.788</td>  <td>19.952</td>  <td>0.000</td> <td>14.179</td> <td>17.268</td>\n",
       "</tr>\n",
       "<tr>\n",
       "  <th>Time</th>       <td>6.943</td>   <td>0.033</td>  <td>207.939</td> <td>0.000</td>  <td>6.877</td>  <td>7.008</td>\n",
       "</tr>\n",
       "<tr>\n",
       "  <th>Group Var</th> <td>40.394</td>   <td>2.149</td>     <td></td>       <td></td>       <td></td>       <td></td>   \n",
       "</tr>\n",
       "</table>"
      ],
      "text/plain": [
       "<class 'statsmodels.iolib.summary2.Summary'>\n",
       "\"\"\"\n",
       "         Mixed Linear Model Regression Results\n",
       "========================================================\n",
       "Model:            MixedLM Dependent Variable: Weight    \n",
       "No. Observations: 861     Method:             REML      \n",
       "No. Groups:       72      Scale:              11.3669   \n",
       "Min. group size:  11      Likelihood:         -2404.7753\n",
       "Max. group size:  12      Converged:          Yes       \n",
       "Mean group size:  12.0                                  \n",
       "--------------------------------------------------------\n",
       "             Coef.  Std.Err.    z    P>|z| [0.025 0.975]\n",
       "--------------------------------------------------------\n",
       "Intercept    15.724    0.788  19.952 0.000 14.179 17.268\n",
       "Time          6.943    0.033 207.939 0.000  6.877  7.008\n",
       "Group Var    40.394    2.149                            \n",
       "========================================================\n",
       "\n",
       "\"\"\""
      ]
     },
     "execution_count": 14,
     "metadata": {},
     "output_type": "execute_result"
    }
   ],
   "source": [
    "md = smf.mixedlm(\"Weight ~ Time\", data, groups=data[\"Pig\"]) \n",
    "mdf = md.fit() \n",
    "mdf.summary()"
   ]
  },
  {
   "cell_type": "code",
   "execution_count": 15,
   "metadata": {},
   "outputs": [
    {
     "data": {
      "text/html": [
       "<table class=\"simpletable\">\n",
       "<tr>\n",
       "       <td>Model:</td>       <td>MixedLM</td> <td>Dependent Variable:</td>   <td>Weight</td>  \n",
       "</tr>\n",
       "<tr>\n",
       "  <td>No. Observations:</td>   <td>861</td>         <td>Method:</td>          <td>REML</td>   \n",
       "</tr>\n",
       "<tr>\n",
       "     <td>No. Groups:</td>      <td>72</td>          <td>Scale:</td>          <td>11.3669</td> \n",
       "</tr>\n",
       "<tr>\n",
       "  <td>Min. group size:</td>    <td>11</td>        <td>Likelihood:</td>     <td>-2404.7753</td>\n",
       "</tr>\n",
       "<tr>\n",
       "  <td>Max. group size:</td>    <td>12</td>        <td>Converged:</td>          <td>Yes</td>   \n",
       "</tr>\n",
       "<tr>\n",
       "  <td>Mean group size:</td>   <td>12.0</td>            <td></td>                <td></td>     \n",
       "</tr>\n",
       "</table>\n",
       "<table class=\"simpletable\">\n",
       "<tr>\n",
       "      <td></td>       <th>Coef.</th> <th>Std.Err.</th>    <th>z</th>    <th>P>|z|</th> <th>[0.025</th> <th>0.975]</th>\n",
       "</tr>\n",
       "<tr>\n",
       "  <th>Intercept</th> <td>15.724</td>   <td>0.788</td>  <td>19.952</td>  <td>0.000</td> <td>14.179</td> <td>17.268</td>\n",
       "</tr>\n",
       "<tr>\n",
       "  <th>Time</th>       <td>6.943</td>   <td>0.033</td>  <td>207.939</td> <td>0.000</td>  <td>6.877</td>  <td>7.008</td>\n",
       "</tr>\n",
       "<tr>\n",
       "  <th>Group Var</th> <td>40.394</td>   <td>2.149</td>     <td></td>       <td></td>       <td></td>       <td></td>   \n",
       "</tr>\n",
       "</table>"
      ],
      "text/plain": [
       "<class 'statsmodels.iolib.summary2.Summary'>\n",
       "\"\"\"\n",
       "         Mixed Linear Model Regression Results\n",
       "========================================================\n",
       "Model:            MixedLM Dependent Variable: Weight    \n",
       "No. Observations: 861     Method:             REML      \n",
       "No. Groups:       72      Scale:              11.3669   \n",
       "Min. group size:  11      Likelihood:         -2404.7753\n",
       "Max. group size:  12      Converged:          Yes       \n",
       "Mean group size:  12.0                                  \n",
       "--------------------------------------------------------\n",
       "             Coef.  Std.Err.    z    P>|z| [0.025 0.975]\n",
       "--------------------------------------------------------\n",
       "Intercept    15.724    0.788  19.952 0.000 14.179 17.268\n",
       "Time          6.943    0.033 207.939 0.000  6.877  7.008\n",
       "Group Var    40.394    2.149                            \n",
       "========================================================\n",
       "\n",
       "\"\"\""
      ]
     },
     "execution_count": 15,
     "metadata": {},
     "output_type": "execute_result"
    }
   ],
   "source": [
    "md = smf.MixedLM.from_formula(\"Weight ~ Time\", data, groups=data[\"Pig\"]) \n",
    "mdf = md.fit() \n",
    "mdf.summary()"
   ]
  },
  {
   "cell_type": "markdown",
   "metadata": {},
   "source": [
    "#### In Stata\n",
    "\n",
    "Now I'll confirm that I get the same calculation in Stata."
   ]
  },
  {
   "cell_type": "code",
   "execution_count": 16,
   "metadata": {},
   "outputs": [],
   "source": [
    "#Save file as Stata file\n",
    "data.to_stata('lme.dta')"
   ]
  },
  {
   "cell_type": "markdown",
   "metadata": {},
   "source": [
    "In Stata, call the following commands:\n",
    "\n",
    "    use \"C:\\Users\\Jeremy\\Documents\\GitRepositories\\Learn\\python\\statistics-and-data-analysis\\General\\fixed-and-random-effects\\lme.dta\", clear\n",
    "    \n",
    "    xtreg Weight Time, i(Pig)\n",
    "    \n",
    "This produces the following output:"
   ]
  },
  {
   "cell_type": "raw",
   "metadata": {},
   "source": [
    "\n",
    "Random-effects GLS regression                   Number of obs     =        861\n",
    "Group variable: Pig                             Number of groups  =         72\n",
    "\n",
    "R-sq:                                           Obs per group:\n",
    "     within  = 0.9821                                         min =         11\n",
    "     between = 0.0370                                         avg =       12.0\n",
    "     overall = 0.9177                                         max =         12\n",
    "\n",
    "                                                Wald chi2(1)      =   43261.79\n",
    "corr(u_i, X)   = 0 (assumed)                    Prob > chi2       =     0.0000\n",
    "\n",
    "------------------------------------------------------------------------------\n",
    "      Weight |      Coef.   Std. Err.      z    P>|z|     [95% Conf. Interval]\n",
    "-------------+----------------------------------------------------------------\n",
    "        Time |   6.942504   .0333783   207.99   0.000     6.877084    7.007925\n",
    "       _cons |   15.72353   .7902282    19.90   0.000     14.17471    17.27234\n",
    "-------------+----------------------------------------------------------------\n",
    "     sigma_u |  6.3769509\n",
    "     sigma_e |  3.3714948\n",
    "         rho |  .78154074   (fraction of variance due to u_i)\n",
    "------------------------------------------------------------------------------\n"
   ]
  },
  {
   "cell_type": "markdown",
   "metadata": {},
   "source": [
    "#### With `plm` in R\n",
    "\n",
    "Some infor on how to do this in R: https://dss.princeton.edu/training/Panel101R.pdf"
   ]
  },
  {
   "cell_type": "code",
   "execution_count": 17,
   "metadata": {},
   "outputs": [
    {
     "name": "stderr",
     "output_type": "stream",
     "text": [
      "/home/vagrant/anaconda/lib/python3.6/site-packages/rpy2/rinterface/__init__.py:145: RRuntimeWarning: Loading required package: Formula\n",
      "\n",
      "  warnings.warn(x, RRuntimeWarning)\n"
     ]
    }
   ],
   "source": [
    "%%R\n",
    "library(foreign)\n",
    "library(plm)"
   ]
  },
  {
   "cell_type": "code",
   "execution_count": 18,
   "metadata": {},
   "outputs": [
    {
     "data": {
      "text/plain": [
       "Oneway (individual) effect Within Model\n",
       "\n",
       "Call:\n",
       "plm(formula = Weight ~ Time, data = df, model = \"within\", index = c(\"Pig\"))\n",
       "\n",
       "Unbalanced Panel: n=72, T=11-12, N=861\n",
       "\n",
       "Residuals :\n",
       "   Min. 1st Qu.  Median 3rd Qu.    Max. \n",
       "-15.900  -1.920  -0.284   1.650  16.400 \n",
       "\n",
       "Coefficients :\n",
       "     Estimate Std. Error t-value  Pr(>|t|)    \n",
       "Time 6.942398   0.033388  207.93 < 2.2e-16 ***\n",
       "---\n",
       "Signif. codes:  0 ‘***’ 0.001 ‘**’ 0.01 ‘*’ 0.05 ‘.’ 0.1 ‘ ’ 1\n",
       "\n",
       "Total Sum of Squares:    500420\n",
       "Residual Sum of Squares: 8957.2\n",
       "R-Squared:      0.9821\n",
       "Adj. R-Squared: 0.98047\n",
       "F-statistic: 43236.1 on 1 and 788 DF, p-value: < 2.22e-16\n"
      ]
     },
     "metadata": {},
     "output_type": "display_data"
    }
   ],
   "source": [
    "%%R\n",
    "df = read.dta('lme.dta')\n",
    "fixed = plm(Weight ~ Time, data=df, index=c('Pig'), model='within')\n",
    "summary(fixed)"
   ]
  },
  {
   "cell_type": "markdown",
   "metadata": {},
   "source": [
    "As you can see, the results are the same."
   ]
  },
  {
   "cell_type": "markdown",
   "metadata": {},
   "source": [
    "## Wooldridge Panel Data: Chapter 10\n",
    "\n",
    "I will replicate the examples that are found here: http://www.ats.ucla.edu/stat/stata/examples/eacspd/chapter10.htmb (Now here: https://stats.idre.ucla.edu/stata/examples/eacspd/econometric-analysis-of-cross-section-and-panel-data-by-jeffrey-m-wooldridgechapter-10-basic-linear-unobserved-effects-panel-data-models/) \n",
    "\n",
    "### Example 10.4 on page 261 using jtrain1.dta.\n",
    "\n",
    "This uses **random effects**\n",
    "\n",
    "In this example, I'm trying to replicate the following Stata code.\n",
    "\n",
    "    //use jtrain1, clear\n",
    "    use http://www.stata.com/data/jwooldridge/eacsap/jtrain1, clear\n",
    "    xtreg lscrap d88 d89 union grant grant_1, i( fcode)"
   ]
  },
  {
   "cell_type": "code",
   "execution_count": 19,
   "metadata": {},
   "outputs": [],
   "source": [
    "import pandas as pd\n",
    "import pandas\n",
    "import statsmodels.formula.api as smf"
   ]
  },
  {
   "cell_type": "code",
   "execution_count": 20,
   "metadata": {},
   "outputs": [],
   "source": [
    "# #download and save the correct datasets\n",
    "# import urllib\n",
    "# testfile = urllib.request.URLopener()\n",
    "# testfile.retrieve(\"http://www.stata.com/data/jwooldridge/eacsap/jtrain1.dta\", \"jtrain1.dta\")"
   ]
  },
  {
   "cell_type": "markdown",
   "metadata": {},
   "source": [
    "Note that once you download this file, you need to use Stata to save this in Stata 11/12 format or it will not work. I have already done this and named the new copy of the file"
   ]
  },
  {
   "cell_type": "code",
   "execution_count": 21,
   "metadata": {},
   "outputs": [],
   "source": [
    "# Does not work with this version of Stata\n",
    "# df = pd.read_stata('jtrain1.dta')"
   ]
  },
  {
   "cell_type": "code",
   "execution_count": 22,
   "metadata": {},
   "outputs": [],
   "source": [
    "#Open converted file\n",
    "url = \"http://www.stata.com/data/jwooldridge/eacsap/jtrain1.dta\"\n",
    "# df = pd.read_stata('St11-12_jtrain1.dta')\n",
    "df = pd.read_stata(url)"
   ]
  },
  {
   "cell_type": "code",
   "execution_count": 23,
   "metadata": {},
   "outputs": [
    {
     "name": "stdout",
     "output_type": "stream",
     "text": [
      "year: 1987, 1988, or 1989\n",
      "fcode: firm code number\n",
      "employ: # employees at plant\n",
      "sales: annual sales, $\n",
      "avgsal: average employee salary\n",
      "scrap: scrap rate (per 100 items)\n",
      "rework: rework rate (per 100 items)\n",
      "tothrs: total hours training\n",
      "union: =1 if unionized\n",
      "grant: = 1 if received grant\n",
      "d89: = 1 if year = 1989\n",
      "d88: = 1 if year = 1988\n",
      "totrain: total employees trained\n",
      "hrsemp: tothrs/totrain\n",
      "lscrap: log(scrap)\n",
      "lemploy: log(employ)\n",
      "lsales: log(sales)\n",
      "lrework: log(rework)\n",
      "lhrsemp: log(1 + hrsemp)\n",
      "lscrap_1: lagged lscrap; missing 1987\n",
      "grant_1: lagged grant; assumed 0 in 1987\n",
      "clscrap: lscrap - lscrap_1; year > 1987\n",
      "cgrant: grant - grant_1\n",
      "clemploy: lemploy - lemploy[_n-1]\n",
      "clsales: lavgsal - lavgsal[_n-1]\n",
      "lavgsal: log(avgsal)\n",
      "clavgsal: lavgsal - lavgsal[_n-1]\n",
      "cgrant_1: cgrant[_n-1]\n",
      "chrsemp: hrsemp - hrsemp[_n-1]\n",
      "clhrsemp: lhrsemp - lhrsemp[_n-1]\n"
     ]
    }
   ],
   "source": [
    "# The Stata Reader doesn't work with all versions of Stata files\n",
    "# This Stata file has been converted to one that it can read.\n",
    "with open('St11-12_jtrain1.dta', 'rb') as file:\n",
    "    stata_file = sm.iolib.foreign.StataReader(file)\n",
    "\n",
    "# Print Variables names and labels\n",
    "for var in stata_file.variables():\n",
    "    print(f'{var.name}: {var.label}')"
   ]
  },
  {
   "cell_type": "code",
   "execution_count": 24,
   "metadata": {},
   "outputs": [
    {
     "data": {
      "text/html": [
       "<div>\n",
       "<style scoped>\n",
       "    .dataframe tbody tr th:only-of-type {\n",
       "        vertical-align: middle;\n",
       "    }\n",
       "\n",
       "    .dataframe tbody tr th {\n",
       "        vertical-align: top;\n",
       "    }\n",
       "\n",
       "    .dataframe thead th {\n",
       "        text-align: right;\n",
       "    }\n",
       "</style>\n",
       "<table border=\"1\" class=\"dataframe\">\n",
       "  <thead>\n",
       "    <tr style=\"text-align: right;\">\n",
       "      <th></th>\n",
       "      <th>year</th>\n",
       "      <th>fcode</th>\n",
       "      <th>employ</th>\n",
       "      <th>sales</th>\n",
       "      <th>avgsal</th>\n",
       "      <th>scrap</th>\n",
       "      <th>rework</th>\n",
       "      <th>tothrs</th>\n",
       "      <th>union</th>\n",
       "      <th>grant</th>\n",
       "      <th>...</th>\n",
       "      <th>grant_1</th>\n",
       "      <th>clscrap</th>\n",
       "      <th>cgrant</th>\n",
       "      <th>clemploy</th>\n",
       "      <th>clsales</th>\n",
       "      <th>lavgsal</th>\n",
       "      <th>clavgsal</th>\n",
       "      <th>cgrant_1</th>\n",
       "      <th>chrsemp</th>\n",
       "      <th>clhrsemp</th>\n",
       "    </tr>\n",
       "  </thead>\n",
       "  <tbody>\n",
       "    <tr>\n",
       "      <th>0</th>\n",
       "      <td>1987</td>\n",
       "      <td>410032.0</td>\n",
       "      <td>100.0</td>\n",
       "      <td>47000000.0</td>\n",
       "      <td>35000.0</td>\n",
       "      <td>NaN</td>\n",
       "      <td>NaN</td>\n",
       "      <td>12.0</td>\n",
       "      <td>0</td>\n",
       "      <td>0</td>\n",
       "      <td>...</td>\n",
       "      <td>0</td>\n",
       "      <td>NaN</td>\n",
       "      <td>0</td>\n",
       "      <td>NaN</td>\n",
       "      <td>NaN</td>\n",
       "      <td>10.463103</td>\n",
       "      <td>NaN</td>\n",
       "      <td>NaN</td>\n",
       "      <td>NaN</td>\n",
       "      <td>NaN</td>\n",
       "    </tr>\n",
       "    <tr>\n",
       "      <th>1</th>\n",
       "      <td>1988</td>\n",
       "      <td>410032.0</td>\n",
       "      <td>131.0</td>\n",
       "      <td>43000000.0</td>\n",
       "      <td>37000.0</td>\n",
       "      <td>NaN</td>\n",
       "      <td>NaN</td>\n",
       "      <td>8.0</td>\n",
       "      <td>0</td>\n",
       "      <td>0</td>\n",
       "      <td>...</td>\n",
       "      <td>0</td>\n",
       "      <td>NaN</td>\n",
       "      <td>0</td>\n",
       "      <td>0.270027</td>\n",
       "      <td>-0.088949</td>\n",
       "      <td>10.518673</td>\n",
       "      <td>0.055570</td>\n",
       "      <td>0.0</td>\n",
       "      <td>-8.946565</td>\n",
       "      <td>-1.165385</td>\n",
       "    </tr>\n",
       "    <tr>\n",
       "      <th>2</th>\n",
       "      <td>1989</td>\n",
       "      <td>410032.0</td>\n",
       "      <td>123.0</td>\n",
       "      <td>49000000.0</td>\n",
       "      <td>39000.0</td>\n",
       "      <td>NaN</td>\n",
       "      <td>NaN</td>\n",
       "      <td>8.0</td>\n",
       "      <td>0</td>\n",
       "      <td>0</td>\n",
       "      <td>...</td>\n",
       "      <td>0</td>\n",
       "      <td>NaN</td>\n",
       "      <td>0</td>\n",
       "      <td>-0.063013</td>\n",
       "      <td>0.130621</td>\n",
       "      <td>10.571317</td>\n",
       "      <td>0.052644</td>\n",
       "      <td>0.0</td>\n",
       "      <td>0.198597</td>\n",
       "      <td>0.047832</td>\n",
       "    </tr>\n",
       "    <tr>\n",
       "      <th>3</th>\n",
       "      <td>1987</td>\n",
       "      <td>410440.0</td>\n",
       "      <td>12.0</td>\n",
       "      <td>1560000.0</td>\n",
       "      <td>10500.0</td>\n",
       "      <td>NaN</td>\n",
       "      <td>NaN</td>\n",
       "      <td>12.0</td>\n",
       "      <td>0</td>\n",
       "      <td>0</td>\n",
       "      <td>...</td>\n",
       "      <td>0</td>\n",
       "      <td>NaN</td>\n",
       "      <td>0</td>\n",
       "      <td>NaN</td>\n",
       "      <td>NaN</td>\n",
       "      <td>9.259130</td>\n",
       "      <td>NaN</td>\n",
       "      <td>NaN</td>\n",
       "      <td>NaN</td>\n",
       "      <td>NaN</td>\n",
       "    </tr>\n",
       "    <tr>\n",
       "      <th>4</th>\n",
       "      <td>1988</td>\n",
       "      <td>410440.0</td>\n",
       "      <td>13.0</td>\n",
       "      <td>1970000.0</td>\n",
       "      <td>11000.0</td>\n",
       "      <td>NaN</td>\n",
       "      <td>NaN</td>\n",
       "      <td>12.0</td>\n",
       "      <td>0</td>\n",
       "      <td>0</td>\n",
       "      <td>...</td>\n",
       "      <td>0</td>\n",
       "      <td>NaN</td>\n",
       "      <td>0</td>\n",
       "      <td>0.080043</td>\n",
       "      <td>0.233347</td>\n",
       "      <td>9.305651</td>\n",
       "      <td>0.046520</td>\n",
       "      <td>0.0</td>\n",
       "      <td>0.000000</td>\n",
       "      <td>0.000000</td>\n",
       "    </tr>\n",
       "  </tbody>\n",
       "</table>\n",
       "<p>5 rows × 30 columns</p>\n",
       "</div>"
      ],
      "text/plain": [
       "   year     fcode  employ       sales   avgsal  scrap  rework  tothrs  union  \\\n",
       "0  1987  410032.0   100.0  47000000.0  35000.0    NaN     NaN    12.0      0   \n",
       "1  1988  410032.0   131.0  43000000.0  37000.0    NaN     NaN     8.0      0   \n",
       "2  1989  410032.0   123.0  49000000.0  39000.0    NaN     NaN     8.0      0   \n",
       "3  1987  410440.0    12.0   1560000.0  10500.0    NaN     NaN    12.0      0   \n",
       "4  1988  410440.0    13.0   1970000.0  11000.0    NaN     NaN    12.0      0   \n",
       "\n",
       "   grant    ...     grant_1  clscrap  cgrant  clemploy   clsales    lavgsal  \\\n",
       "0      0    ...           0      NaN       0       NaN       NaN  10.463103   \n",
       "1      0    ...           0      NaN       0  0.270027 -0.088949  10.518673   \n",
       "2      0    ...           0      NaN       0 -0.063013  0.130621  10.571317   \n",
       "3      0    ...           0      NaN       0       NaN       NaN   9.259130   \n",
       "4      0    ...           0      NaN       0  0.080043  0.233347   9.305651   \n",
       "\n",
       "   clavgsal  cgrant_1   chrsemp  clhrsemp  \n",
       "0       NaN       NaN       NaN       NaN  \n",
       "1  0.055570       0.0 -8.946565 -1.165385  \n",
       "2  0.052644       0.0  0.198597  0.047832  \n",
       "3       NaN       NaN       NaN       NaN  \n",
       "4  0.046520       0.0  0.000000  0.000000  \n",
       "\n",
       "[5 rows x 30 columns]"
      ]
     },
     "execution_count": 24,
     "metadata": {},
     "output_type": "execute_result"
    }
   ],
   "source": [
    "#df = df.set_index(['year'])\n",
    "df.head()"
   ]
  },
  {
   "cell_type": "code",
   "execution_count": 25,
   "metadata": {},
   "outputs": [
    {
     "data": {
      "text/html": [
       "<div>\n",
       "<style scoped>\n",
       "    .dataframe tbody tr th:only-of-type {\n",
       "        vertical-align: middle;\n",
       "    }\n",
       "\n",
       "    .dataframe tbody tr th {\n",
       "        vertical-align: top;\n",
       "    }\n",
       "\n",
       "    .dataframe thead th {\n",
       "        text-align: right;\n",
       "    }\n",
       "</style>\n",
       "<table border=\"1\" class=\"dataframe\">\n",
       "  <thead>\n",
       "    <tr style=\"text-align: right;\">\n",
       "      <th></th>\n",
       "      <th>lscrap</th>\n",
       "      <th>union</th>\n",
       "      <th>fcode</th>\n",
       "      <th>sales</th>\n",
       "      <th>rework</th>\n",
       "    </tr>\n",
       "  </thead>\n",
       "  <tbody>\n",
       "    <tr>\n",
       "      <th>count</th>\n",
       "      <td>162.000000</td>\n",
       "      <td>471.000000</td>\n",
       "      <td>471.000000</td>\n",
       "      <td>373.0</td>\n",
       "      <td>123.000000</td>\n",
       "    </tr>\n",
       "    <tr>\n",
       "      <th>mean</th>\n",
       "      <td>0.393681</td>\n",
       "      <td>0.197452</td>\n",
       "      <td>415709.000000</td>\n",
       "      <td>6116037.0</td>\n",
       "      <td>3.473984</td>\n",
       "    </tr>\n",
       "    <tr>\n",
       "      <th>std</th>\n",
       "      <td>1.486471</td>\n",
       "      <td>0.398500</td>\n",
       "      <td>4022.922363</td>\n",
       "      <td>7912517.0</td>\n",
       "      <td>5.462482</td>\n",
       "    </tr>\n",
       "    <tr>\n",
       "      <th>min</th>\n",
       "      <td>-4.605170</td>\n",
       "      <td>0.000000</td>\n",
       "      <td>410032.000000</td>\n",
       "      <td>110000.0</td>\n",
       "      <td>0.000000</td>\n",
       "    </tr>\n",
       "    <tr>\n",
       "      <th>25%</th>\n",
       "      <td>-0.523431</td>\n",
       "      <td>0.000000</td>\n",
       "      <td>410604.000000</td>\n",
       "      <td>1550000.0</td>\n",
       "      <td>0.350000</td>\n",
       "    </tr>\n",
       "    <tr>\n",
       "      <th>50%</th>\n",
       "      <td>0.347123</td>\n",
       "      <td>0.000000</td>\n",
       "      <td>418084.000000</td>\n",
       "      <td>3000000.0</td>\n",
       "      <td>1.160000</td>\n",
       "    </tr>\n",
       "    <tr>\n",
       "      <th>75%</th>\n",
       "      <td>1.386294</td>\n",
       "      <td>0.000000</td>\n",
       "      <td>419309.000000</td>\n",
       "      <td>7700000.0</td>\n",
       "      <td>4.000000</td>\n",
       "    </tr>\n",
       "    <tr>\n",
       "      <th>max</th>\n",
       "      <td>3.401197</td>\n",
       "      <td>1.000000</td>\n",
       "      <td>419486.000000</td>\n",
       "      <td>54000000.0</td>\n",
       "      <td>40.000000</td>\n",
       "    </tr>\n",
       "  </tbody>\n",
       "</table>\n",
       "</div>"
      ],
      "text/plain": [
       "           lscrap       union          fcode       sales      rework\n",
       "count  162.000000  471.000000     471.000000       373.0  123.000000\n",
       "mean     0.393681    0.197452  415709.000000   6116037.0    3.473984\n",
       "std      1.486471    0.398500    4022.922363   7912517.0    5.462482\n",
       "min     -4.605170    0.000000  410032.000000    110000.0    0.000000\n",
       "25%     -0.523431    0.000000  410604.000000   1550000.0    0.350000\n",
       "50%      0.347123    0.000000  418084.000000   3000000.0    1.160000\n",
       "75%      1.386294    0.000000  419309.000000   7700000.0    4.000000\n",
       "max      3.401197    1.000000  419486.000000  54000000.0   40.000000"
      ]
     },
     "execution_count": 25,
     "metadata": {},
     "output_type": "execute_result"
    }
   ],
   "source": [
    "df[['lscrap', 'union', 'fcode','sales', 'rework']].describe()"
   ]
  },
  {
   "cell_type": "markdown",
   "metadata": {},
   "source": [
    "#### With `statsmodels`\n",
    "\n",
    "I believe that this is working because it doesn't know how to handle the missing data. I'm going to drop all the missing data and then try again."
   ]
  },
  {
   "cell_type": "code",
   "execution_count": 26,
   "metadata": {},
   "outputs": [],
   "source": [
    "# The following wont work if you don't drop the missing values.\n",
    "df2 = df.copy()\n",
    "\n",
    "# df2 = df[['lscrap', 'd88', 'd89', 'union', 'grant', 'grant_1', 'fcode']].dropna()"
   ]
  },
  {
   "cell_type": "code",
   "execution_count": 27,
   "metadata": {},
   "outputs": [],
   "source": [
    "# The following wont work if you don't drop the missing values.\n",
    "\n",
    "# md = smf.mixedlm(\"lscrap ~ d88 + d89 + union + grant + grant_1\", df2, groups=df2[\"fcode\"])\n",
    "# mdf = md.fit() \n",
    "# mdf.summary()"
   ]
  },
  {
   "cell_type": "code",
   "execution_count": 28,
   "metadata": {},
   "outputs": [],
   "source": [
    "# The following wont work if you don't drop the missing values.\n",
    "\n",
    "# md = smf.mixedlm(\"lscrap ~ union\", df2, groups=df2[\"fcode\"])\n",
    "# mdf = md.fit() \n",
    "# mdf.summary()"
   ]
  },
  {
   "cell_type": "code",
   "execution_count": 29,
   "metadata": {},
   "outputs": [
    {
     "data": {
      "text/html": [
       "<table class=\"simpletable\">\n",
       "<tr>\n",
       "       <td>Model:</td>       <td>MixedLM</td> <td>Dependent Variable:</td>  <td>lscrap</td>  \n",
       "</tr>\n",
       "<tr>\n",
       "  <td>No. Observations:</td>   <td>162</td>         <td>Method:</td>         <td>REML</td>   \n",
       "</tr>\n",
       "<tr>\n",
       "     <td>No. Groups:</td>      <td>54</td>          <td>Scale:</td>         <td>0.2478</td>  \n",
       "</tr>\n",
       "<tr>\n",
       "  <td>Min. group size:</td>     <td>3</td>        <td>Likelihood:</td>     <td>-205.9266</td>\n",
       "</tr>\n",
       "<tr>\n",
       "  <td>Max. group size:</td>     <td>3</td>        <td>Converged:</td>         <td>Yes</td>   \n",
       "</tr>\n",
       "<tr>\n",
       "  <td>Mean group size:</td>    <td>3.0</td>            <td></td>               <td></td>     \n",
       "</tr>\n",
       "</table>\n",
       "<table class=\"simpletable\">\n",
       "<tr>\n",
       "      <td></td>       <th>Coef.</th> <th>Std.Err.</th>    <th>z</th>   <th>P>|z|</th> <th>[0.025</th> <th>0.975]</th>\n",
       "</tr>\n",
       "<tr>\n",
       "  <th>Intercept</th>  <td>0.415</td>   <td>0.244</td>   <td>1.698</td> <td>0.089</td> <td>-0.064</td>  <td>0.894</td>\n",
       "</tr>\n",
       "<tr>\n",
       "  <th>d88</th>       <td>-0.093</td>   <td>0.109</td>  <td>-0.856</td> <td>0.392</td> <td>-0.307</td>  <td>0.120</td>\n",
       "</tr>\n",
       "<tr>\n",
       "  <th>d89</th>       <td>-0.270</td>   <td>0.132</td>  <td>-2.050</td> <td>0.040</td> <td>-0.527</td> <td>-0.012</td>\n",
       "</tr>\n",
       "<tr>\n",
       "  <th>union</th>      <td>0.548</td>   <td>0.412</td>   <td>1.329</td> <td>0.184</td> <td>-0.260</td>  <td>1.356</td>\n",
       "</tr>\n",
       "<tr>\n",
       "  <th>grant</th>     <td>-0.215</td>   <td>0.148</td>  <td>-1.455</td> <td>0.146</td> <td>-0.505</td>  <td>0.075</td>\n",
       "</tr>\n",
       "<tr>\n",
       "  <th>grant_1</th>   <td>-0.378</td>   <td>0.205</td>  <td>-1.839</td> <td>0.066</td> <td>-0.780</td>  <td>0.025</td>\n",
       "</tr>\n",
       "<tr>\n",
       "  <th>Group Var</th>  <td>1.955</td>   <td>0.984</td>     <td></td>      <td></td>       <td></td>       <td></td>   \n",
       "</tr>\n",
       "</table>"
      ],
      "text/plain": [
       "<class 'statsmodels.iolib.summary2.Summary'>\n",
       "\"\"\"\n",
       "         Mixed Linear Model Regression Results\n",
       "=======================================================\n",
       "Model:            MixedLM Dependent Variable: lscrap   \n",
       "No. Observations: 162     Method:             REML     \n",
       "No. Groups:       54      Scale:              0.2478   \n",
       "Min. group size:  3       Likelihood:         -205.9266\n",
       "Max. group size:  3       Converged:          Yes      \n",
       "Mean group size:  3.0                                  \n",
       "-------------------------------------------------------\n",
       "             Coef.  Std.Err.   z    P>|z| [0.025 0.975]\n",
       "-------------------------------------------------------\n",
       "Intercept     0.415    0.244  1.698 0.089 -0.064  0.894\n",
       "d88          -0.093    0.109 -0.856 0.392 -0.307  0.120\n",
       "d89          -0.270    0.132 -2.050 0.040 -0.527 -0.012\n",
       "union         0.548    0.412  1.329 0.184 -0.260  1.356\n",
       "grant        -0.215    0.148 -1.455 0.146 -0.505  0.075\n",
       "grant_1      -0.378    0.205 -1.839 0.066 -0.780  0.025\n",
       "Group Var     1.955    0.984                           \n",
       "=======================================================\n",
       "\n",
       "\"\"\""
      ]
     },
     "execution_count": 29,
     "metadata": {},
     "output_type": "execute_result"
    }
   ],
   "source": [
    "df2 = df[['lscrap', 'd88', 'd89', 'union', 'grant', 'grant_1', 'fcode']].dropna()\n",
    "md = smf.mixedlm(\"lscrap ~ d88 + d89 + union + grant + grant_1\", df2, groups=df2[\"fcode\"])\n",
    "mdf = md.fit() \n",
    "mdf.summary()"
   ]
  },
  {
   "cell_type": "markdown",
   "metadata": {},
   "source": [
    "#### With `linearmodels`"
   ]
  },
  {
   "cell_type": "code",
   "execution_count": 30,
   "metadata": {},
   "outputs": [
    {
     "data": {
      "text/html": [
       "<table class=\"simpletable\">\n",
       "<caption>RandomEffects Estimation Summary</caption>\n",
       "<tr>\n",
       "  <th>Dep. Variable:</th>         <td>lscrap</td>      <th>  R-squared:         </th>    <td>0.1486</td> \n",
       "</tr>\n",
       "<tr>\n",
       "  <th>Estimator:</th>          <td>RandomEffects</td>  <th>  R-squared (Between):</th>   <td>0.0184</td> \n",
       "</tr>\n",
       "<tr>\n",
       "  <th>No. Observations:</th>        <td>162</td>       <th>  R-squared (Within):</th>    <td>0.2005</td> \n",
       "</tr>\n",
       "<tr>\n",
       "  <th>Date:</th>             <td>Thu, May 17 2018</td> <th>  R-squared (Overall):</th>   <td>0.0349</td> \n",
       "</tr>\n",
       "<tr>\n",
       "  <th>Time:</th>                 <td>18:39:43</td>     <th>  Log-likelihood     </th>    <td>-113.26</td>\n",
       "</tr>\n",
       "<tr>\n",
       "  <th>Cov. Estimator:</th>      <td>Unadjusted</td>    <th>                     </th>       <td></td>    \n",
       "</tr>\n",
       "<tr>\n",
       "  <th></th>                          <td></td>         <th>  F-statistic:       </th>    <td>5.4474</td> \n",
       "</tr>\n",
       "<tr>\n",
       "  <th>Entities:</th>                <td>54</td>        <th>  P-value            </th>    <td>0.0001</td> \n",
       "</tr>\n",
       "<tr>\n",
       "  <th>Avg Obs:</th>               <td>3.0000</td>      <th>  Distribution:      </th>   <td>F(5,156)</td>\n",
       "</tr>\n",
       "<tr>\n",
       "  <th>Min Obs:</th>               <td>3.0000</td>      <th>                     </th>       <td></td>    \n",
       "</tr>\n",
       "<tr>\n",
       "  <th>Max Obs:</th>               <td>3.0000</td>      <th>  F-statistic (robust):</th>  <td>5.4474</td> \n",
       "</tr>\n",
       "<tr>\n",
       "  <th></th>                          <td></td>         <th>  P-value            </th>    <td>0.0001</td> \n",
       "</tr>\n",
       "<tr>\n",
       "  <th>Time periods:</th>             <td>3</td>        <th>  Distribution:      </th>   <td>F(5,156)</td>\n",
       "</tr>\n",
       "<tr>\n",
       "  <th>Avg Obs:</th>               <td>54.000</td>      <th>                     </th>       <td></td>    \n",
       "</tr>\n",
       "<tr>\n",
       "  <th>Min Obs:</th>               <td>54.000</td>      <th>                     </th>       <td></td>    \n",
       "</tr>\n",
       "<tr>\n",
       "  <th>Max Obs:</th>               <td>54.000</td>      <th>                     </th>       <td></td>    \n",
       "</tr>\n",
       "<tr>\n",
       "  <th></th>                          <td></td>         <th>                     </th>       <td></td>    \n",
       "</tr>\n",
       "</table>\n",
       "<table class=\"simpletable\">\n",
       "<caption>Parameter Estimates</caption>\n",
       "<tr>\n",
       "      <td></td>      <th>Parameter</th> <th>Std. Err.</th> <th>T-stat</th>  <th>P-value</th> <th>Lower CI</th> <th>Upper CI</th>\n",
       "</tr>\n",
       "<tr>\n",
       "  <th>Intercept</th>  <td>0.4148</td>    <td>0.2458</td>   <td>1.6878</td>  <td>0.0935</td>   <td>-0.0707</td>  <td>0.9003</td> \n",
       "</tr>\n",
       "<tr>\n",
       "  <th>d88</th>        <td>-0.0931</td>   <td>0.1086</td>   <td>-0.8569</td> <td>0.3928</td>   <td>-0.3076</td>  <td>0.1215</td> \n",
       "</tr>\n",
       "<tr>\n",
       "  <th>d89</th>        <td>-0.2692</td>   <td>0.1310</td>   <td>-2.0544</td> <td>0.0416</td>   <td>-0.5280</td>  <td>-0.0104</td>\n",
       "</tr>\n",
       "<tr>\n",
       "  <th>union</th>      <td>0.5478</td>    <td>0.4149</td>   <td>1.3204</td>  <td>0.1886</td>   <td>-0.2717</td>  <td>1.3674</td> \n",
       "</tr>\n",
       "<tr>\n",
       "  <th>grant</th>      <td>-0.2158</td>   <td>0.1471</td>   <td>-1.4669</td> <td>0.1444</td>   <td>-0.5064</td>  <td>0.0748</td> \n",
       "</tr>\n",
       "<tr>\n",
       "  <th>grant_1</th>    <td>-0.3784</td>   <td>0.2044</td>   <td>-1.8506</td> <td>0.0661</td>   <td>-0.7822</td>  <td>0.0255</td> \n",
       "</tr>\n",
       "</table><br/>id: 0x7fc56def2908"
      ],
      "text/plain": [
       "                        RandomEffects Estimation Summary                        \n",
       "================================================================================\n",
       "Dep. Variable:                 lscrap   R-squared:                        0.1486\n",
       "Estimator:              RandomEffects   R-squared (Between):              0.0184\n",
       "No. Observations:                 162   R-squared (Within):               0.2005\n",
       "Date:                Thu, May 17 2018   R-squared (Overall):              0.0349\n",
       "Time:                        18:39:43   Log-likelihood                   -113.26\n",
       "Cov. Estimator:            Unadjusted                                           \n",
       "                                        F-statistic:                      5.4474\n",
       "Entities:                          54   P-value                           0.0001\n",
       "Avg Obs:                       3.0000   Distribution:                   F(5,156)\n",
       "Min Obs:                       3.0000                                           \n",
       "Max Obs:                       3.0000   F-statistic (robust):             5.4474\n",
       "                                        P-value                           0.0001\n",
       "Time periods:                       3   Distribution:                   F(5,156)\n",
       "Avg Obs:                       54.000                                           \n",
       "Min Obs:                       54.000                                           \n",
       "Max Obs:                       54.000                                           \n",
       "                                                                                \n",
       "                             Parameter Estimates                              \n",
       "==============================================================================\n",
       "            Parameter  Std. Err.     T-stat    P-value    Lower CI    Upper CI\n",
       "------------------------------------------------------------------------------\n",
       "Intercept      0.4148     0.2458     1.6878     0.0935     -0.0707      0.9003\n",
       "d88           -0.0931     0.1086    -0.8569     0.3928     -0.3076      0.1215\n",
       "d89           -0.2692     0.1310    -2.0544     0.0416     -0.5280     -0.0104\n",
       "union          0.5478     0.4149     1.3204     0.1886     -0.2717      1.3674\n",
       "grant         -0.2158     0.1471    -1.4669     0.1444     -0.5064      0.0748\n",
       "grant_1       -0.3784     0.2044    -1.8506     0.0661     -0.7822      0.0255\n",
       "==============================================================================\n",
       "RandomEffectsResults, id: 0x7fc56def2908"
      ]
     },
     "execution_count": 30,
     "metadata": {},
     "output_type": "execute_result"
    }
   ],
   "source": [
    "df2 = df[['lscrap', 'd88', 'd89', 'union', 'grant', 'grant_1', 'fcode', 'year']].dropna().set_index(['fcode', 'year'])\n",
    "md = linearmodels.RandomEffects.from_formula(\"lscrap ~ 1+ d88 + d89 + union + grant + grant_1 + EntityEffects\", data=df2)\n",
    "mdf = md.fit() \n",
    "mdf"
   ]
  },
  {
   "cell_type": "markdown",
   "metadata": {},
   "source": [
    "#### With `plm` in R\n",
    "\n",
    "Some info on how to do this in R: https://dss.princeton.edu/training/Panel101R.pdf"
   ]
  },
  {
   "cell_type": "code",
   "execution_count": 31,
   "metadata": {},
   "outputs": [
    {
     "name": "stdout",
     "output_type": "stream",
     "text": [
      "\n",
      "Error in pdata.frame(data, index) : \n",
      "  variable fcode does not exist (individual index)\n"
     ]
    },
    {
     "name": "stderr",
     "output_type": "stream",
     "text": [
      "/home/vagrant/anaconda/lib/python3.6/site-packages/rpy2/rinterface/__init__.py:145: RRuntimeWarning: Error in pdata.frame(data, index) : \n",
      "  variable fcode does not exist (individual index)\n",
      "\n",
      "  warnings.warn(x, RRuntimeWarning)\n"
     ]
    }
   ],
   "source": [
    "%%R -i df2\n",
    "fixed = plm(lscrap ~ d88 + d89 + union + grant + grant_1, data=df2, index=c('fcode'), model='random')\n",
    "summary(fixed)"
   ]
  },
  {
   "cell_type": "markdown",
   "metadata": {},
   "source": [
    "#### In Stata\n",
    "\n",
    "Compare this to the Stata output here. They are the same\n",
    "\n",
    "```\n",
    "//use jtrain1, clear\n",
    "use http://www.stata.com/data/jwooldridge/eacsap/jtrain1, clear\n",
    "xtreg lscrap d88 d89 union grant grant_1, i( fcode)\n",
    "```"
   ]
  },
  {
   "cell_type": "raw",
   "metadata": {},
   "source": [
    "Random-effects GLS regression                   Number of obs      =       162\n",
    "Group variable (i): fcode                       Number of groups   =        54\n",
    "\n",
    "R-sq:  within  = 0.2006                         Obs per group: min =         3\n",
    "       between = 0.0206                                        avg =       3.0\n",
    "       overall = 0.0361                                        max =         3\n",
    "\n",
    "Random effects u_i ~ Gaussian                   Wald chi2(5)       =     26.99\n",
    "corr(u_i, X)       = 0 (assumed)                Prob > chi2        =    0.0001\n",
    "\n",
    "------------------------------------------------------------------------------\n",
    "      lscrap |      Coef.   Std. Err.      z    P>|z|     [95% Conf. Interval]\n",
    "-------------+----------------------------------------------------------------\n",
    "         d88 |  -.0934519   .1091559    -0.86   0.392    -.3073937    .1204898\n",
    "         d89 |  -.2698336   .1316496    -2.05   0.040     -.527862   -.0118052\n",
    "       union |   .5478021    .410625     1.33   0.182    -.2570081    1.352612\n",
    "       grant |   -.214696   .1477838    -1.45   0.146     -.504347    .0749549\n",
    "     grant_1 |  -.3770698   .2053516    -1.84   0.066    -.7795515    .0254119\n",
    "       _cons |   .4148333   .2434322     1.70   0.088    -.0622851    .8919518\n",
    "-------------+----------------------------------------------------------------\n",
    "     sigma_u |  1.3900287\n",
    "     sigma_e |  .49774421\n",
    "         rho |  .88634984   (fraction of variance due to u_i)\n",
    "------------------------------------------------------------------------------"
   ]
  },
  {
   "cell_type": "markdown",
   "metadata": {},
   "source": [
    "Below I give the Stata output when `robust` is used. The regular procedure above seems to be closer to the Python output."
   ]
  },
  {
   "cell_type": "raw",
   "metadata": {},
   "source": [
    "\n",
    ". xtreg lscrap d88 d89 union grant grant_1, i( fcode) robust\n",
    "\n",
    "Random-effects GLS regression                   Number of obs     =        162\n",
    "Group variable: fcode                           Number of groups  =         54\n",
    "\n",
    "R-sq:                                           Obs per group:\n",
    "     within  = 0.2006                                         min =          3\n",
    "     between = 0.0206                                         avg =        3.0\n",
    "     overall = 0.0361                                         max =          3\n",
    "\n",
    "                                                Wald chi2(5)      =      27.65\n",
    "corr(u_i, X)   = 0 (assumed)                    Prob > chi2       =     0.0000\n",
    "\n",
    "                                 (Std. Err. adjusted for 54 clusters in fcode)\n",
    "------------------------------------------------------------------------------\n",
    "             |               Robust\n",
    "      lscrap |      Coef.   Std. Err.      z    P>|z|     [95% Conf. Interval]\n",
    "-------------+----------------------------------------------------------------\n",
    "         d88 |  -.0934519   .0938166    -1.00   0.319    -.2773291    .0904253\n",
    "         d89 |  -.2698336   .1885186    -1.43   0.152    -.6393232     .099656\n",
    "       union |   .5478021   .4023672     1.36   0.173     -.240823    1.336427\n",
    "       grant |  -.2146961   .1311183    -1.64   0.102    -.4716832    .0422911\n",
    "     grant_1 |  -.3770698   .2674417    -1.41   0.159    -.9012458    .1471062\n",
    "       _cons |   .4148333   .2673996     1.55   0.121    -.1092603     .938927\n",
    "-------------+----------------------------------------------------------------\n",
    "     sigma_u |  1.3900287\n",
    "     sigma_e |  .49774421\n",
    "         rho |  .88634984   (fraction of variance due to u_i)\n",
    "------------------------------------------------------------------------------\n"
   ]
  },
  {
   "cell_type": "markdown",
   "metadata": {},
   "source": [
    "As can be read here (http://statsmodels.sourceforge.net/devel/generated/statsmodels.regression.mixed_linear_model.MixedLM.from_formula.html), \"this method currently does not correctly handle missing values, so missing values should be explicitly dropped from the DataFrame before calling this method.\"\n",
    "\n",
    "### Example 10.5 on page 272 using jtrain1.dta.\n",
    "\n",
    "This uses **fixed effects**\n",
    "\n",
    "In this example, I'm trying to replicate the following Stata code.\n",
    "\n",
    "    //use jtrain1, clear\n",
    "    use http://www.stata.com/data/jwooldridge/eacsap/jtrain1, clear\n",
    "    xtreg lscrap d88 d89 union grant grant_1, i( fcode) fe\n",
    "    \n",
    "To do this, I'm going to use the direction that is given here: http://stackoverflow.com/questions/24195432/fixed-effect-in-pandas-or-statsmodels"
   ]
  },
  {
   "cell_type": "markdown",
   "metadata": {},
   "source": [
    "#### Using `linearmodels`"
   ]
  },
  {
   "cell_type": "code",
   "execution_count": 32,
   "metadata": {},
   "outputs": [],
   "source": [
    "import pandas as pd\n",
    "import pandas\n",
    "import statsmodels.formula.api as smf\n",
    "df = pd.read_stata('St11-12_jtrain1.dta')"
   ]
  },
  {
   "cell_type": "code",
   "execution_count": 33,
   "metadata": {},
   "outputs": [
    {
     "data": {
      "text/plain": [
       "Index(['year', 'fcode', 'employ', 'sales', 'avgsal', 'scrap', 'rework',\n",
       "       'tothrs', 'union', 'grant', 'd89', 'd88', 'totrain', 'hrsemp', 'lscrap',\n",
       "       'lemploy', 'lsales', 'lrework', 'lhrsemp', 'lscrap_1', 'grant_1',\n",
       "       'clscrap', 'cgrant', 'clemploy', 'clsales', 'lavgsal', 'clavgsal',\n",
       "       'cgrant_1', 'chrsemp', 'clhrsemp'],\n",
       "      dtype='object')"
      ]
     },
     "execution_count": 33,
     "metadata": {},
     "output_type": "execute_result"
    }
   ],
   "source": [
    "df.columns"
   ]
  },
  {
   "cell_type": "code",
   "execution_count": 34,
   "metadata": {},
   "outputs": [
    {
     "data": {
      "text/html": [
       "<div>\n",
       "<style scoped>\n",
       "    .dataframe tbody tr th:only-of-type {\n",
       "        vertical-align: middle;\n",
       "    }\n",
       "\n",
       "    .dataframe tbody tr th {\n",
       "        vertical-align: top;\n",
       "    }\n",
       "\n",
       "    .dataframe thead th {\n",
       "        text-align: right;\n",
       "    }\n",
       "</style>\n",
       "<table border=\"1\" class=\"dataframe\">\n",
       "  <thead>\n",
       "    <tr style=\"text-align: right;\">\n",
       "      <th></th>\n",
       "      <th></th>\n",
       "      <th>lscrap</th>\n",
       "      <th>d88</th>\n",
       "      <th>d89</th>\n",
       "      <th>union</th>\n",
       "      <th>grant</th>\n",
       "      <th>grant_1</th>\n",
       "    </tr>\n",
       "    <tr>\n",
       "      <th>fcode</th>\n",
       "      <th>year</th>\n",
       "      <th></th>\n",
       "      <th></th>\n",
       "      <th></th>\n",
       "      <th></th>\n",
       "      <th></th>\n",
       "      <th></th>\n",
       "    </tr>\n",
       "  </thead>\n",
       "  <tbody>\n",
       "    <tr>\n",
       "      <th rowspan=\"3\" valign=\"top\">410523.0</th>\n",
       "      <th>1987</th>\n",
       "      <td>-2.813411</td>\n",
       "      <td>0</td>\n",
       "      <td>0</td>\n",
       "      <td>0</td>\n",
       "      <td>0</td>\n",
       "      <td>0</td>\n",
       "    </tr>\n",
       "    <tr>\n",
       "      <th>1988</th>\n",
       "      <td>-2.995732</td>\n",
       "      <td>1</td>\n",
       "      <td>0</td>\n",
       "      <td>0</td>\n",
       "      <td>0</td>\n",
       "      <td>0</td>\n",
       "    </tr>\n",
       "    <tr>\n",
       "      <th>1989</th>\n",
       "      <td>-2.995732</td>\n",
       "      <td>0</td>\n",
       "      <td>1</td>\n",
       "      <td>0</td>\n",
       "      <td>0</td>\n",
       "      <td>0</td>\n",
       "    </tr>\n",
       "    <tr>\n",
       "      <th rowspan=\"2\" valign=\"top\">410538.0</th>\n",
       "      <th>1987</th>\n",
       "      <td>0.970779</td>\n",
       "      <td>0</td>\n",
       "      <td>0</td>\n",
       "      <td>1</td>\n",
       "      <td>0</td>\n",
       "      <td>0</td>\n",
       "    </tr>\n",
       "    <tr>\n",
       "      <th>1988</th>\n",
       "      <td>1.007958</td>\n",
       "      <td>1</td>\n",
       "      <td>0</td>\n",
       "      <td>1</td>\n",
       "      <td>0</td>\n",
       "      <td>0</td>\n",
       "    </tr>\n",
       "  </tbody>\n",
       "</table>\n",
       "</div>"
      ],
      "text/plain": [
       "                 lscrap  d88  d89  union  grant  grant_1\n",
       "fcode    year                                           \n",
       "410523.0 1987 -2.813411    0    0      0      0        0\n",
       "         1988 -2.995732    1    0      0      0        0\n",
       "         1989 -2.995732    0    1      0      0        0\n",
       "410538.0 1987  0.970779    0    0      1      0        0\n",
       "         1988  1.007958    1    0      1      0        0"
      ]
     },
     "execution_count": 34,
     "metadata": {},
     "output_type": "execute_result"
    }
   ],
   "source": [
    "df2.head()"
   ]
  },
  {
   "cell_type": "code",
   "execution_count": 35,
   "metadata": {},
   "outputs": [
    {
     "data": {
      "text/html": [
       "<table class=\"simpletable\">\n",
       "<caption>PanelOLS Estimation Summary</caption>\n",
       "<tr>\n",
       "  <th>Dep. Variable:</th>         <td>lscrap</td>      <th>  R-squared:         </th>    <td>0.0411</td> \n",
       "</tr>\n",
       "<tr>\n",
       "  <th>Estimator:</th>            <td>PanelOLS</td>     <th>  R-squared (Between):</th>   <td>-0.0552</td>\n",
       "</tr>\n",
       "<tr>\n",
       "  <th>No. Observations:</th>        <td>162</td>       <th>  R-squared (Within):</th>    <td>0.1478</td> \n",
       "</tr>\n",
       "<tr>\n",
       "  <th>Date:</th>             <td>Thu, May 17 2018</td> <th>  R-squared (Overall):</th>   <td>-0.0381</td>\n",
       "</tr>\n",
       "<tr>\n",
       "  <th>Time:</th>                 <td>18:39:44</td>     <th>  Log-likelihood     </th>    <td>-80.946</td>\n",
       "</tr>\n",
       "<tr>\n",
       "  <th>Cov. Estimator:</th>      <td>Unadjusted</td>    <th>                     </th>       <td></td>    \n",
       "</tr>\n",
       "<tr>\n",
       "  <th></th>                          <td></td>         <th>  F-statistic:       </th>    <td>2.2294</td> \n",
       "</tr>\n",
       "<tr>\n",
       "  <th>Entities:</th>                <td>54</td>        <th>  P-value            </th>    <td>0.1127</td> \n",
       "</tr>\n",
       "<tr>\n",
       "  <th>Avg Obs:</th>               <td>3.0000</td>      <th>  Distribution:      </th>   <td>F(2,104)</td>\n",
       "</tr>\n",
       "<tr>\n",
       "  <th>Min Obs:</th>               <td>3.0000</td>      <th>                     </th>       <td></td>    \n",
       "</tr>\n",
       "<tr>\n",
       "  <th>Max Obs:</th>               <td>3.0000</td>      <th>  F-statistic (robust):</th>  <td>2.2294</td> \n",
       "</tr>\n",
       "<tr>\n",
       "  <th></th>                          <td></td>         <th>  P-value            </th>    <td>0.1127</td> \n",
       "</tr>\n",
       "<tr>\n",
       "  <th>Time periods:</th>             <td>3</td>        <th>  Distribution:      </th>   <td>F(2,104)</td>\n",
       "</tr>\n",
       "<tr>\n",
       "  <th>Avg Obs:</th>               <td>54.000</td>      <th>                     </th>       <td></td>    \n",
       "</tr>\n",
       "<tr>\n",
       "  <th>Min Obs:</th>               <td>54.000</td>      <th>                     </th>       <td></td>    \n",
       "</tr>\n",
       "<tr>\n",
       "  <th>Max Obs:</th>               <td>54.000</td>      <th>                     </th>       <td></td>    \n",
       "</tr>\n",
       "<tr>\n",
       "  <th></th>                          <td></td>         <th>                     </th>       <td></td>    \n",
       "</tr>\n",
       "</table>\n",
       "<table class=\"simpletable\">\n",
       "<caption>Parameter Estimates</caption>\n",
       "<tr>\n",
       "     <td></td>     <th>Parameter</th> <th>Std. Err.</th> <th>T-stat</th>  <th>P-value</th> <th>Lower CI</th> <th>Upper CI</th>\n",
       "</tr>\n",
       "<tr>\n",
       "  <th>grant</th>    <td>-0.2523</td>   <td>0.1506</td>   <td>-1.6751</td> <td>0.0969</td>   <td>-0.5510</td>  <td>0.0464</td> \n",
       "</tr>\n",
       "<tr>\n",
       "  <th>grant_1</th>  <td>-0.4216</td>   <td>0.2102</td>   <td>-2.0057</td> <td>0.0475</td>   <td>-0.8384</td>  <td>-0.0048</td>\n",
       "</tr>\n",
       "</table><br/><br/>F-test for Poolability: 24.118<br/>P-value: 0.0000<br/>Distribution: F(55,104)<br/><br/>Included effects: Entity, Time<br/>id: 0x7fc56a9087b8"
      ],
      "text/plain": [
       "                          PanelOLS Estimation Summary                           \n",
       "================================================================================\n",
       "Dep. Variable:                 lscrap   R-squared:                        0.0411\n",
       "Estimator:                   PanelOLS   R-squared (Between):             -0.0552\n",
       "No. Observations:                 162   R-squared (Within):               0.1478\n",
       "Date:                Thu, May 17 2018   R-squared (Overall):             -0.0381\n",
       "Time:                        18:39:44   Log-likelihood                   -80.946\n",
       "Cov. Estimator:            Unadjusted                                           \n",
       "                                        F-statistic:                      2.2294\n",
       "Entities:                          54   P-value                           0.1127\n",
       "Avg Obs:                       3.0000   Distribution:                   F(2,104)\n",
       "Min Obs:                       3.0000                                           \n",
       "Max Obs:                       3.0000   F-statistic (robust):             2.2294\n",
       "                                        P-value                           0.1127\n",
       "Time periods:                       3   Distribution:                   F(2,104)\n",
       "Avg Obs:                       54.000                                           \n",
       "Min Obs:                       54.000                                           \n",
       "Max Obs:                       54.000                                           \n",
       "                                                                                \n",
       "                             Parameter Estimates                              \n",
       "==============================================================================\n",
       "            Parameter  Std. Err.     T-stat    P-value    Lower CI    Upper CI\n",
       "------------------------------------------------------------------------------\n",
       "grant         -0.2523     0.1506    -1.6751     0.0969     -0.5510      0.0464\n",
       "grant_1       -0.4216     0.2102    -2.0057     0.0475     -0.8384     -0.0048\n",
       "==============================================================================\n",
       "\n",
       "F-test for Poolability: 24.118\n",
       "P-value: 0.0000\n",
       "Distribution: F(55,104)\n",
       "\n",
       "Included effects: Entity, Time\n",
       "PanelEffectsResults, id: 0x7fc56a9087b8"
      ]
     },
     "execution_count": 35,
     "metadata": {},
     "output_type": "execute_result"
    }
   ],
   "source": [
    "df2 = df[['lscrap', 'union', 'grant', 'grant_1', 'fcode', 'year']].dropna().set_index(['fcode', 'year'])\n",
    "reg = linearmodels.PanelOLS.from_formula(\"lscrap ~ grant + grant_1 + EntityEffects + TimeEffects\", data=df2)\n",
    "# This wont work below since the variable 'union' doesn't vary over time for\n",
    "# any of the firms in the sample\n",
    "# reg = linearmodels.PanelOLS.from_formula(\"lscrap ~ union + grant + grant_1 + EntityEffects + TimeEffects\", data=df2)\n",
    "reg_fitted = reg.fit() \n",
    "reg_fitted"
   ]
  },
  {
   "cell_type": "code",
   "execution_count": 36,
   "metadata": {},
   "outputs": [],
   "source": [
    "# # This doesn't give the correct results\n",
    "# df2 = df[['d88', 'd89', 'lscrap', 'union', 'grant', 'grant_1', 'fcode', 'year']].dropna()\n",
    "# reg = smf.mixedlm(\"lscrap ~ d88 + d89 + grant + grant_1\", df2, groups=df2[\"fcode\"])\n",
    "# reg_fitted = reg.fit()\n",
    "# reg_fitted.summary()"
   ]
  },
  {
   "cell_type": "code",
   "execution_count": 37,
   "metadata": {},
   "outputs": [],
   "source": [
    "# df2 = df.set_index(['year', 'fcode'])\n",
    "# reg = pd.stats.plm.PanelOLS(y=df2['lscrap'], x=df2[['d88', 'd89', 'union', 'grant', 'grant_1']], time_effects=True)\n",
    "# reg"
   ]
  },
  {
   "cell_type": "markdown",
   "metadata": {},
   "source": [
    "Note that the indexes must be in the correct order. The above results do not match the Stata output. Below is the correct ordering."
   ]
  },
  {
   "cell_type": "code",
   "execution_count": 38,
   "metadata": {},
   "outputs": [],
   "source": [
    "# df2 = df.set_index(['fcode', 'year'])\n",
    "# reg = pd.stats.plm.PanelOLS(y=df2['lscrap'], x=df2[['d88', 'd89', 'union', 'grant', 'grant_1']], time_effects=True)\n",
    "# reg"
   ]
  },
  {
   "cell_type": "markdown",
   "metadata": {},
   "source": [
    "#### Using Stata"
   ]
  },
  {
   "cell_type": "markdown",
   "metadata": {},
   "source": [
    "Compare this to the Stata output. It gives the same coefficients. Some of the tests are not the same, however."
   ]
  },
  {
   "cell_type": "raw",
   "metadata": {},
   "source": [
    "//use jtrain1, clear\n",
    "use http://www.stata.com/data/jwooldridge/eacsap/jtrain1, clear\n",
    "xtreg lscrap d88 d89 union grant grant_1, i( fcode)"
   ]
  },
  {
   "cell_type": "raw",
   "metadata": {},
   "source": [
    "Fixed-effects (within) regression               Number of obs      =       162\n",
    "Group variable (i): fcode                       Number of groups   =        54\n",
    "\n",
    "R-sq:  within  = 0.2010                         Obs per group: min =         3\n",
    "       between = 0.0079                                        avg =       3.0\n",
    "       overall = 0.0068                                        max =         3\n",
    "\n",
    "                                                F(4,104)           =      6.54\n",
    "corr(u_i, Xb)  = -0.0714                        Prob > F           =    0.0001\n",
    "\n",
    "------------------------------------------------------------------------------\n",
    "      lscrap |      Coef.   Std. Err.      t    P>|t|     [95% Conf. Interval]\n",
    "-------------+----------------------------------------------------------------\n",
    "         d88 |  -.0802157   .1094751    -0.73   0.465     -.297309    .1368776\n",
    "         d89 |  -.2472028   .1332183    -1.86   0.066    -.5113797    .0169741\n",
    "       union |  (dropped)\n",
    "       grant |  -.2523149    .150629    -1.68   0.097    -.5510178    .0463881\n",
    "     grant_1 |  -.4215895      .2102    -2.01   0.047    -.8384239   -.0047551\n",
    "       _cons |   .5974341   .0677344     8.82   0.000     .4631142    .7317539\n",
    "-------------+----------------------------------------------------------------\n",
    "     sigma_u |   1.438982\n",
    "     sigma_e |  .49774421\n",
    "         rho |  .89313867   (fraction of variance due to u_i)\n",
    "------------------------------------------------------------------------------\n",
    "F test that all u_i=0:     F(53, 104) =    23.87             Prob > F = 0.0000"
   ]
  },
  {
   "cell_type": "code",
   "execution_count": 39,
   "metadata": {},
   "outputs": [
    {
     "data": {
      "text/plain": [
       "Oneway (individual) effect Within Model\n",
       "\n",
       "Call:\n",
       "plm(formula = lscrap ~ d88 + d89 + union + grant + grant_1, data = df, \n",
       "    model = \"within\", index = c(\"fcode\", \"year\"))\n",
       "\n",
       "Balanced Panel: n=54, T=3, N=162\n",
       "\n",
       "Residuals :\n",
       "   Min. 1st Qu.  Median 3rd Qu.    Max. \n",
       "-2.2900 -0.1120 -0.0178  0.1440  1.4300 \n",
       "\n",
       "Coefficients :\n",
       "         Estimate Std. Error t-value Pr(>|t|)  \n",
       "d88     -0.080216   0.109475 -0.7327  0.46537  \n",
       "d89     -0.247203   0.133218 -1.8556  0.06634 .\n",
       "grant   -0.252315   0.150629 -1.6751  0.09692 .\n",
       "grant_1 -0.421590   0.210200 -2.0057  0.04749 *\n",
       "---\n",
       "Signif. codes:  0 ‘***’ 0.001 ‘**’ 0.01 ‘*’ 0.05 ‘.’ 0.1 ‘ ’ 1\n",
       "\n",
       "Total Sum of Squares:    32.25\n",
       "Residual Sum of Squares: 25.766\n",
       "R-Squared:      0.20105\n",
       "Adj. R-Squared: -0.23684\n",
       "F-statistic: 6.54259 on 4 and 104 DF, p-value: 9.7741e-05\n"
      ]
     },
     "metadata": {},
     "output_type": "display_data"
    }
   ],
   "source": [
    "%%R -i df\n",
    "reg = plm(lscrap ~ d88 + d89 + union + grant + grant_1, df, index=c('fcode', 'year'), model='within')\n",
    "summary(reg)"
   ]
  },
  {
   "cell_type": "markdown",
   "metadata": {},
   "source": [
    "If we don't want to put in time dummies manually, all we need to do\n",
    "is to specify \"two-way\" fixed effects. Note that we need to supply the \n",
    "index properly. That is, the individual index first, followed by the time\n",
    "index second. If you don't specify the index, it will assume that the first\n",
    "two columns are the index, again in the order of individual and then time.\n",
    "\n",
    "See p. 72 of this: https://cran.r-project.org/web/packages/plm/plm.pdf and see p. 5 of this https://cran.r-project.org/web/packages/plm/vignettes/plm.pdf"
   ]
  },
  {
   "cell_type": "code",
   "execution_count": 40,
   "metadata": {},
   "outputs": [
    {
     "data": {
      "text/plain": [
       "Twoways effects Within Model\n",
       "\n",
       "Call:\n",
       "plm(formula = lscrap ~ union + grant + grant_1, data = df, effect = \"twoways\", \n",
       "    model = \"within\", index = c(\"fcode\", \"year\"))\n",
       "\n",
       "Balanced Panel: n=54, T=3, N=162\n",
       "\n",
       "Residuals :\n",
       "   Min. 1st Qu.  Median 3rd Qu.    Max. \n",
       "-2.2900 -0.1120 -0.0178  0.1440  1.4300 \n",
       "\n",
       "Coefficients :\n",
       "        Estimate Std. Error t-value Pr(>|t|)  \n",
       "grant   -0.25231    0.15063 -1.6751  0.09692 .\n",
       "grant_1 -0.42159    0.21020 -2.0057  0.04749 *\n",
       "---\n",
       "Signif. codes:  0 ‘***’ 0.001 ‘**’ 0.01 ‘*’ 0.05 ‘.’ 0.1 ‘ ’ 1\n",
       "\n",
       "Total Sum of Squares:    26.871\n",
       "Residual Sum of Squares: 25.766\n",
       "R-Squared:      0.041111\n",
       "Adj. R-Squared: -0.48443\n",
       "F-statistic: 2.22942 on 2 and 104 DF, p-value: 0.11271\n"
      ]
     },
     "metadata": {},
     "output_type": "display_data"
    }
   ],
   "source": [
    "%%R -i df\n",
    "# This works so that we don't have to manually put in time dummies\n",
    "reg = plm(lscrap ~ union + grant + grant_1, df, index=c('fcode', 'year'), model='within', effect='twoways')\n",
    "summary(reg)"
   ]
  },
  {
   "cell_type": "markdown",
   "metadata": {},
   "source": [
    "A simple Monte Carlo demonstration using a different package can be found here: https://www.r-bloggers.com/linear-models-with-multiple-fixed-effects/"
   ]
  },
  {
   "cell_type": "code",
   "execution_count": null,
   "metadata": {},
   "outputs": [],
   "source": []
  }
 ],
 "metadata": {
  "kernelspec": {
   "display_name": "Python 3",
   "language": "python",
   "name": "python3"
  },
  "language_info": {
   "codemirror_mode": {
    "name": "ipython",
    "version": 3
   },
   "file_extension": ".py",
   "mimetype": "text/x-python",
   "name": "python",
   "nbconvert_exporter": "python",
   "pygments_lexer": "ipython3",
   "version": "3.6.3"
  },
  "varInspector": {
   "cols": {
    "lenName": 16,
    "lenType": 16,
    "lenVar": 40
   },
   "kernels_config": {
    "python": {
     "delete_cmd_postfix": "",
     "delete_cmd_prefix": "del ",
     "library": "var_list.py",
     "varRefreshCmd": "print(var_dic_list())"
    },
    "r": {
     "delete_cmd_postfix": ") ",
     "delete_cmd_prefix": "rm(",
     "library": "var_list.r",
     "varRefreshCmd": "cat(var_dic_list()) "
    }
   },
   "types_to_exclude": [
    "module",
    "function",
    "builtin_function_or_method",
    "instance",
    "_Feature"
   ],
   "window_display": false
  }
 },
 "nbformat": 4,
 "nbformat_minor": 1
}
