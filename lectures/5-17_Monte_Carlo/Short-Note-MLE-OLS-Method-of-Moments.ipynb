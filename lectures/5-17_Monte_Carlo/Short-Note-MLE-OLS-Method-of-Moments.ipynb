{
 "cells": [
  {
   "cell_type": "markdown",
   "metadata": {},
   "source": [
    "$$\n",
    "y = \\beta_0 + \\beta_1 x_1 + \\epsilon\n",
    "$$"
   ]
  },
  {
   "cell_type": "markdown",
   "metadata": {},
   "source": [
    "MLE\n",
    "\n",
    "$ \\epsilon \\sim \\mathcal N(0,\\sigma)$"
   ]
  },
  {
   "cell_type": "markdown",
   "metadata": {},
   "source": [
    "Ordinary Least Squares\n",
    "\n",
    "$E[(\\epsilon)^2] = E[(y - \\beta_0 - \\beta_1 x_1)^2]$\n",
    "\n"
   ]
  },
  {
   "cell_type": "markdown",
   "metadata": {},
   "source": [
    "Method of Moments\n",
    "\n",
    "$E[\\epsilon] = 0$\n",
    "\n",
    "$E[\\epsilon^2] < \\infty$\n",
    "\n",
    "$E[\\epsilon x_1] = 0$\n",
    "\n",
    "\n",
    "$E[y - \\beta_0 - \\beta_1 x_1] = 0$\n",
    "\n",
    "$E[(y - \\beta_0 - \\beta_1 x_1)x_1] = 0$\n"
   ]
  },
  {
   "cell_type": "code",
   "execution_count": null,
   "metadata": {},
   "outputs": [],
   "source": []
  }
 ],
 "metadata": {
  "kernelspec": {
   "display_name": "Python 3",
   "language": "python",
   "name": "python3"
  },
  "language_info": {
   "codemirror_mode": {
    "name": "ipython",
    "version": 3
   },
   "file_extension": ".py",
   "mimetype": "text/x-python",
   "name": "python",
   "nbconvert_exporter": "python",
   "pygments_lexer": "ipython3",
   "version": "3.6.3"
  }
 },
 "nbformat": 4,
 "nbformat_minor": 2
}
